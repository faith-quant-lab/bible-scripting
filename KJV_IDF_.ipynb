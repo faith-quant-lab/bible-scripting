{
  "nbformat": 4,
  "nbformat_minor": 0,
  "metadata": {
    "colab": {
      "name": "KJV_IDF_.ipynb",
      "version": "0.3.2",
      "provenance": [],
      "collapsed_sections": [
        "akpLjCVHcmy8",
        "zd6vujB1WYOm"
      ],
      "toc_visible": true,
      "include_colab_link": true
    },
    "kernelspec": {
      "name": "python3",
      "display_name": "Python 3"
    },
    "accelerator": "GPU"
  },
  "cells": [
    {
      "cell_type": "markdown",
      "metadata": {
        "id": "view-in-github",
        "colab_type": "text"
      },
      "source": [
        "<a href=\"https://colab.research.google.com/github/faith-quant-lab/bible-scripting/blob/master/KJV_IDF_.ipynb\" target=\"_parent\"><img src=\"https://colab.research.google.com/assets/colab-badge.svg\" alt=\"Open In Colab\"/></a>"
      ]
    },
    {
      "cell_type": "markdown",
      "metadata": {
        "id": "6ATKrEjTBY7B",
        "colab_type": "text"
      },
      "source": [
        "# Faith NLP Tutorial 1. Word Importance via KJV\n",
        "\n",
        "We show in this tutorial the concepts and techniques related to the automatic construction of concept importance."
      ]
    },
    {
      "cell_type": "markdown",
      "metadata": {
        "id": "ikEPGzVdJJ9c",
        "colab_type": "text"
      },
      "source": [
        "## Import data\n",
        "There are multiple ways of importing the KJV data into this Google Colab session. We decide on the simplest yet repeatable, of cloning from Github (for files under 25MB). Intermediate results will also be saved into github.\n",
        "\n",
        "The KJV xml data is from http://www.crosswire.org/~dmsmith/kjv2006/\n"
      ]
    },
    {
      "cell_type": "code",
      "metadata": {
        "id": "q-RSaPaTKM7H",
        "colab_type": "code",
        "outputId": "b6645659-3e9e-4787-d641-4a21037c69c8",
        "colab": {
          "base_uri": "https://localhost:8080/",
          "height": 119
        }
      },
      "source": [
        "# use git as in \n",
        "# https://medium.com/@yuraist/how-to-upload-your-own-dataset-into-google-colab-e228727c87e9\n",
        "! git clone https://github.com/weijingzhu/public_data.git"
      ],
      "execution_count": 0,
      "outputs": [
        {
          "output_type": "stream",
          "text": [
            "Cloning into 'public_data'...\n",
            "remote: Enumerating objects: 19, done.\u001b[K\n",
            "remote: Counting objects: 100% (19/19), done.\u001b[K\n",
            "remote: Compressing objects: 100% (10/10), done.\u001b[K\n",
            "remote: Total 19 (delta 0), reused 16 (delta 0), pack-reused 0\u001b[K\n",
            "Unpacking objects: 100% (19/19), done.\n"
          ],
          "name": "stdout"
        }
      ]
    },
    {
      "cell_type": "code",
      "metadata": {
        "id": "3SwkBaerKhT8",
        "colab_type": "code",
        "outputId": "4cba038b-ee75-451e-ce5d-3b4e0fa624f0",
        "colab": {
          "base_uri": "https://localhost:8080/",
          "height": 34
        }
      },
      "source": [
        "# Let's check that the file is indeed where we expect\n",
        "!ls /content/public_data/faith/bible/crosswire_kjv_strong"
      ],
      "execution_count": 0,
      "outputs": [
        {
          "output_type": "stream",
          "text": [
            "kjvfull.xml  verse_df.pickle\n"
          ],
          "name": "stdout"
        }
      ]
    },
    {
      "cell_type": "markdown",
      "metadata": {
        "id": "T_bATseWAaMA",
        "colab_type": "text"
      },
      "source": [
        "We will be needing NLP libraries:"
      ]
    },
    {
      "cell_type": "code",
      "metadata": {
        "id": "pnjOVi1FAzYq",
        "colab_type": "code",
        "colab": {}
      },
      "source": [
        "import pandas as pd\n",
        "#!pip install -U spaCy\n",
        "#!python -m spacy download en"
      ],
      "execution_count": 0,
      "outputs": []
    },
    {
      "cell_type": "code",
      "metadata": {
        "id": "pMm5cmXa7eoX",
        "colab_type": "code",
        "outputId": "633a3016-0bf5-4127-e6af-da80a92e9c91",
        "colab": {
          "base_uri": "https://localhost:8080/",
          "height": 85
        }
      },
      "source": [
        "# Test the package\n",
        "import spacy\n",
        "nlp = spacy.load('en')\n",
        "doc = nlp('Hello     World!')\n",
        "for token in doc:\n",
        "    print('\"' + token.text + '\"', token.idx)\n",
        "    \n",
        "#create the processing function\n",
        "def process(document):\n",
        "    #create spacy object\n",
        "    #spacy_doc = nlp(unicode(document)) #, parse=False, entity=False)\n",
        "    spacy_doc = nlp(document)\n",
        "    #grab the lemma for each token in the document\n",
        "    processed_tokens = map(lambda token: token.lemma_ if token.lemma_ != '-PRON-' else 'we', spacy_doc)\n",
        "    \n",
        "    #join lemmas to a string\n",
        "    result = \" \".join(processed_tokens)\n",
        "    return result"
      ],
      "execution_count": 0,
      "outputs": [
        {
          "output_type": "stream",
          "text": [
            "\"Hello\" 0\n",
            "\"    \" 6\n",
            "\"World\" 10\n",
            "\"!\" 15\n"
          ],
          "name": "stdout"
        }
      ]
    },
    {
      "cell_type": "code",
      "metadata": {
        "id": "ykWM-D8P72y8",
        "colab_type": "code",
        "outputId": "4b473a58-4350-4ef5-fef1-5c27a78bfcbe",
        "colab": {
          "base_uri": "https://localhost:8080/",
          "height": 34
        }
      },
      "source": [
        "# indicate whether intermediate results are already available,\n",
        "# and thus we can skip PART 1\n",
        "import os\n",
        "WORK_DIR = '/content/public_data/faith/bible/crosswire_kjv_strong/'\n",
        "PART1_RESULT = 'verse_df.pickle'\n",
        "if os.path.isfile(WORK_DIR + PART1_RESULT):\n",
        "  print('Go ahead and skip to PART 2')\n",
        "else:\n",
        "  print(\"Need to run PART 1\")"
      ],
      "execution_count": 0,
      "outputs": [
        {
          "output_type": "stream",
          "text": [
            "Go ahead and skip to PART 2\n"
          ],
          "name": "stdout"
        }
      ]
    },
    {
      "cell_type": "markdown",
      "metadata": {
        "id": "zYqcigBA7hQM",
        "colab_type": "text"
      },
      "source": [
        "# PART 1. Data Processing\n",
        "If the result of PART 1 already exists (check for the file verse_df.pickle above), then we can skip to PART 2 in subsequent runs."
      ]
    },
    {
      "cell_type": "markdown",
      "metadata": {
        "id": "XtvNDESR8WKL",
        "colab_type": "text"
      },
      "source": [
        "## Process KJV+Strong data\n",
        "Wikipedia: there are 929 chapters in the Old Testament. There are 260 chapters in the New Testament. This gives a total of 1,189 chapters (on average, 18 per book). Psalm 117, the shortest chapter, is also the middle chapter of the Bible, being the 595th Chapter.  KJV has 31,102 verses."
      ]
    },
    {
      "cell_type": "code",
      "metadata": {
        "id": "PhSU8jbN8QaB",
        "colab_type": "code",
        "colab": {}
      },
      "source": [
        "with open(WORK_DIR+'kjvfull.xml','r') as inFH:\n",
        "  all_lines = inFH.readlines()"
      ],
      "execution_count": 0,
      "outputs": []
    },
    {
      "cell_type": "code",
      "metadata": {
        "id": "4bE--BrCApH1",
        "colab_type": "code",
        "outputId": "5769992e-da0c-401c-cff5-2c0e612eca3a",
        "colab": {
          "base_uri": "https://localhost:8080/",
          "height": 34
        }
      },
      "source": [
        "# how many lines: about the number of verses\n",
        "len(all_lines)"
      ],
      "execution_count": 0,
      "outputs": [
        {
          "output_type": "execute_result",
          "data": {
            "text/plain": [
              "34901"
            ]
          },
          "metadata": {
            "tags": []
          },
          "execution_count": 24
        }
      ]
    },
    {
      "cell_type": "code",
      "metadata": {
        "id": "do6cGUOeAvlE",
        "colab_type": "code",
        "outputId": "afd740f6-4c6a-4e21-8e1d-4e9631d2a8ad",
        "colab": {
          "base_uri": "https://localhost:8080/",
          "height": 207
        }
      },
      "source": [
        "# peak at actual data\n",
        "all_lines[15600:15610]"
      ],
      "execution_count": 0,
      "outputs": [
        {
          "output_type": "execute_result",
          "data": {
            "text/plain": [
              "['<verse osisID=\"Ps.10.17\" sID=\"Ps.10.17\"/><w lemma=\"strong:H03068\"><seg><divineName>Lord</divineName></seg></w>, <w morph=\"strongMorph:TH8804\" lemma=\"strong:H08085\">thou hast heard</w> <w lemma=\"strong:H08378\">the desire</w> <w lemma=\"strong:H06035\">of the humble</w>: <w morph=\"strongMorph:TH8686\" lemma=\"strong:H03559\">thou wilt prepare</w> <w lemma=\"strong:H03820\">their heart</w>, <w lemma=\"strong:H0241\">thou wilt cause thine ear</w> <w morph=\"strongMorph:TH8686\" lemma=\"strong:H07181\">to hear</w>:<note type=\"study\">prepare: or, establish</note><verse eID=\"Ps.10.17\"/>\\n',\n",
              " '<verse osisID=\"Ps.10.18\" sID=\"Ps.10.18\"/><w morph=\"strongMorph:TH8800\" lemma=\"strong:H08199\">To judge</w> <w lemma=\"strong:H03490\">the fatherless</w> <w lemma=\"strong:H01790\">and the oppressed</w>, <w lemma=\"strong:H0582\">that the man</w> <w lemma=\"strong:H0776\">of the earth</w> <w morph=\"strongMorph:TH8686\" lemma=\"strong:H03254\">may no more</w> <w morph=\"strongMorph:TH8800\" lemma=\"strong:H06206\">oppress</w>.<note type=\"study\">oppress: or, terrify</note><verse eID=\"Ps.10.18\"/>\\n',\n",
              " '</chapter>\\n',\n",
              " '<chapter osisID=\"Ps.11\" chapterTitle=\"PSALM 11.\">\\n',\n",
              " '<title type=\"chapter\">PSALM 11.</title>\\n',\n",
              " '<title type=\"psalm\" canonical=\"true\"><w morph=\"strongMorph:TH8764\" lemma=\"strong:H05329\">To the chief Musician</w>, <transChange type=\"added\">A Psalm</transChange> <w lemma=\"strong:H01732\">of David</w>.</title><verse osisID=\"Ps.11.1\" sID=\"Ps.11.1\"/><w lemma=\"strong:H03068\">In the <seg><divineName>Lord</divineName></seg></w> <w morph=\"strongMorph:TH8804\" lemma=\"strong:H02620\">put I my trust</w>: <w morph=\"strongMorph:TH8799\" lemma=\"strong:H0559\">how say</w> <w lemma=\"strong:H05315\">ye to my soul</w>, <w morph=\"strongMorph:TH8798\" lemma=\"strong:H05110\">Flee</w> <transChange type=\"added\">as</transChange> <w lemma=\"strong:H06833\">a bird</w> <w lemma=\"strong:H02022\">to your mountain</w>?<verse eID=\"Ps.11.1\"/>\\n',\n",
              " '<verse osisID=\"Ps.11.2\" sID=\"Ps.11.2\"/><w lemma=\"strong:H07563\">For, lo, the wicked</w> <w morph=\"strongMorph:TH8799\" lemma=\"strong:H01869\">bend</w> <transChange type=\"added\">their</transChange> <w lemma=\"strong:H07198\">bow</w>, <w morph=\"strongMorph:TH8790\" lemma=\"strong:H03559\">they make ready</w> <w lemma=\"strong:H02671\">their arrow</w> <w lemma=\"strong:H03499\">upon the string</w>, <w morph=\"strongMorph:TH8676\" lemma=\"strong:H01119 strong:H0652\">that they may privily</w> <w morph=\"strongMorph:TH8800\" lemma=\"strong:H03384\">shoot</w> <w lemma=\"strong:H03477\">at the upright</w> <w lemma=\"strong:H03820\">in heart</w>.<note type=\"study\">privily: Heb. in darkness</note><verse eID=\"Ps.11.2\"/>\\n',\n",
              " '<verse osisID=\"Ps.11.3\" sID=\"Ps.11.3\"/><w lemma=\"strong:H08356\">If the foundations</w> <w morph=\"strongMorph:TH8735\" lemma=\"strong:H02040\">be destroyed</w>, <w lemma=\"strong:H06662\">what can the righteous</w> <w morph=\"strongMorph:TH8804\" lemma=\"strong:H06466\">do</w>?<verse eID=\"Ps.11.3\"/>\\n',\n",
              " '<verse osisID=\"Ps.11.4\" sID=\"Ps.11.4\"/><milestone type=\"x-extra-p\"/><w lemma=\"strong:H03068\">The <seg><divineName>Lord</divineName></seg></w> <transChange type=\"added\">is</transChange> <w lemma=\"strong:H06944\">in his holy</w> <w lemma=\"strong:H01964\">temple</w>, <w lemma=\"strong:H03068\">the <seg><divineName>Lord\\'s</divineName></seg></w> <w lemma=\"strong:H03678\">throne</w> <transChange type=\"added\">is</transChange> <w lemma=\"strong:H08064\">in heaven</w>: <w lemma=\"strong:H05869\">his eyes</w> <w morph=\"strongMorph:TH8799\" lemma=\"strong:H02372\">behold</w>, <w lemma=\"strong:H06079\">his eyelids</w> <w morph=\"strongMorph:TH8799\" lemma=\"strong:H0974\">try</w>, <w lemma=\"strong:H01121\">the children</w> <w lemma=\"strong:H0120\">of men</w>.<verse eID=\"Ps.11.4\"/>\\n',\n",
              " '<verse osisID=\"Ps.11.5\" sID=\"Ps.11.5\"/><w lemma=\"strong:H03068\">The <seg><divineName>Lord</divineName></seg></w> <w morph=\"strongMorph:TH8799\" lemma=\"strong:H0974\">trieth</w> <w lemma=\"strong:H06662\">the righteous</w>: <w lemma=\"strong:H07563\">but the wicked</w> <w morph=\"strongMorph:TH8802\" lemma=\"strong:H0157\">and him that loveth</w> <w lemma=\"strong:H02555\">violence</w> <w lemma=\"strong:H05315\">his soul</w> <w morph=\"strongMorph:TH8804\" lemma=\"strong:H08130\">hateth</w>.<verse eID=\"Ps.11.5\"/>\\n']"
            ]
          },
          "metadata": {
            "tags": []
          },
          "execution_count": 25
        }
      ]
    },
    {
      "cell_type": "code",
      "metadata": {
        "id": "Jq90crxgXsMM",
        "colab_type": "code",
        "outputId": "7785f343-4a2d-46d2-972a-38870dfc39e0",
        "colab": {
          "base_uri": "https://localhost:8080/",
          "height": 34
        }
      },
      "source": [
        "# look for other structures such as section information provided by KJV\n",
        "all_lines[26620:26660]\n",
        "# neither http://www.hackathon.bible/data.html\n",
        "# or https://github.com/honza/bibles\n",
        "# contains the section headings\n",
        "# so we will have to crawl\n",
        "# https://www.biblegateway.com/passage/?search=gen&version=ESV\n",
        "# or temporarily specific the section portion for demo purpose\n",
        "1"
      ],
      "execution_count": 0,
      "outputs": [
        {
          "output_type": "execute_result",
          "data": {
            "text/plain": [
              "1"
            ]
          },
          "metadata": {
            "tags": []
          },
          "execution_count": 18
        }
      ]
    },
    {
      "cell_type": "code",
      "metadata": {
        "id": "ZpcLC77lj2e5",
        "colab_type": "code",
        "outputId": "39557343-d9ef-4a17-8547-37a2d47b575a",
        "colab": {
          "base_uri": "https://localhost:8080/",
          "height": 54
        }
      },
      "source": [
        "# Let's count the frequency of various types of tags at the start of lines\n",
        "import collections\n",
        "\n",
        "c = collections.Counter()\n",
        "# count initial tag\n",
        "for line in all_lines:\n",
        "  toks = line.split(' ')\n",
        "  c.update([ toks[0], ])\n",
        "print(c)"
      ],
      "execution_count": 0,
      "outputs": [
        {
          "output_type": "stream",
          "text": [
            "Counter({'<verse': 30986, '<title': 1366, '<chapter': 1189, '</chapter>\\n': 1189, '<div': 80, '</div>\\n': 66, '': 18, '<?xml': 1, '<osis': 1, '<osisText': 1, '<header>\\n': 1, '</header>\\n': 1, '</osisText>\\n': 1, '</osis>\\n': 1})\n"
          ],
          "name": "stdout"
        }
      ]
    },
    {
      "cell_type": "markdown",
      "metadata": {
        "id": "O-tozznHLZ7S",
        "colab_type": "text"
      },
      "source": [
        "### verse processing\n",
        "The tag information confirms that the chapters begins and ends with \"chapter\" tags, and \"div type='book'\" tags will define the books.\n",
        "Wiki says KJV has 31,102 verses. There are only 30986 \"verse\" tagged lines, so we need to identify the missing 116 verses.\n",
        "\n",
        "Sporadic check shows that the missing 116 verses are due to a number of Psalms starts with \"title type='psalm'\" tags followed by verse 1.\n",
        "So we have the rule for identifying the lines of the verses.\n",
        "\n",
        "Note: every verse, chapter, and book are identified by the \"osisid\""
      ]
    },
    {
      "cell_type": "code",
      "metadata": {
        "id": "g-bf7LKXA6W2",
        "colab_type": "code",
        "outputId": "841869ca-305a-4afc-c5d9-076069ef99ca",
        "colab": {
          "base_uri": "https://localhost:8080/",
          "height": 34
        }
      },
      "source": [
        "# rule for identifying verses\n",
        "verses = [v for v in all_lines if v.startswith('<verse') or v.startswith('<title type=\"psalm\"')]\n",
        "len(verses)"
      ],
      "execution_count": 0,
      "outputs": [
        {
          "output_type": "execute_result",
          "data": {
            "text/plain": [
              "31102"
            ]
          },
          "metadata": {
            "tags": []
          },
          "execution_count": 29
        }
      ]
    },
    {
      "cell_type": "markdown",
      "metadata": {
        "id": "3c3BRsjAO5XC",
        "colab_type": "text"
      },
      "source": [
        "From the above glimpse of the raw data, we identify another problem with verse tag structure:\n",
        "\n",
        "* the data uses non-standard \"<verse startID /\\>  verse-text <verse endID /\\>\"\n",
        "* instead of standard XML tag structure \"<verse\\> verse-text <verse/\\>\"\n",
        "\n",
        "so we will correct this to facilitate later processing, by use of regular expressions to convert these patterns."
      ]
    },
    {
      "cell_type": "code",
      "metadata": {
        "id": "mbg_Cp1h7WkM",
        "colab_type": "code",
        "colab": {}
      },
      "source": [
        "# need to fix the verse structure\n",
        "import re\n",
        "VERSE_START_PATT = re.compile(r'(<verse [^\\/]* sID=[^/]*)/>')\n",
        "VERSE_START_TARGET = r'\\1>'\n",
        "VERSE_END_PATT = re.compile(r'<verse eID=[^\\/]*/>')\n",
        "VERSE_END_TARGET = '</verse>'\n",
        "\n",
        "def fixverse(v):\n",
        "    if v.startswith('<verse') or v.startswith('<title type=\"psalm\"'):\n",
        "        w = re.sub(VERSE_START_PATT, VERSE_START_TARGET, v)\n",
        "        x = re.sub(VERSE_END_PATT, VERSE_END_TARGET, w) \n",
        "        return x\n",
        "    else:\n",
        "        return v\n",
        "      \n",
        "# Apply the fix \n",
        "fixverse_lines = [fixverse(x) for x in all_lines]"
      ],
      "execution_count": 0,
      "outputs": []
    },
    {
      "cell_type": "markdown",
      "metadata": {
        "id": "HidtXvki3fHW",
        "colab_type": "text"
      },
      "source": [
        "### remove titles , notes\n",
        "One more thing we notice is that there are tags for titles and notes, which are not part of the bible but added for the reader's convenience. \n",
        "\n",
        "We will remove these text, by the tool BeautifulSoup, which parses xml structures and allow us to replace tags easily. \n",
        "\n",
        "We will replace the title and notes with empty tags with no text."
      ]
    },
    {
      "cell_type": "code",
      "metadata": {
        "id": "pnEsUZSx5iRL",
        "colab_type": "code",
        "colab": {}
      },
      "source": [
        "from bs4 import BeautifulSoup\n",
        "bible_xml = ''.join(fixverse_lines)\n",
        "soup= BeautifulSoup(bible_xml)\n",
        "\n",
        "# print(soup.findAll('div', type='book')[33])\n",
        "# shows:\n",
        "# <note type=\"study\">God…: or, The <divinename>Lord</divinename> is a jealous God, and a revenger, etc</note>\n",
        "\n",
        "new_tag = soup.new_tag(\"note\")\n",
        "new_tag.string = \"\"\n",
        "\n",
        "for t in soup.findAll('note'):\n",
        "    t.replace_with(new_tag)\n",
        "    \n",
        "new_tag = soup.new_tag(\"title\")\n",
        "new_tag.string = \"\"\n",
        "\n",
        "for t in soup.findAll('title'):\n",
        "    t.replace_with(new_tag)    \n",
        "    \n",
        "# soup now contains cleaned-up xml"
      ],
      "execution_count": 0,
      "outputs": []
    },
    {
      "cell_type": "markdown",
      "metadata": {
        "id": "fxFM2WgDdqvi",
        "colab_type": "text"
      },
      "source": [
        "### Corpus = Book/Chapter/Verse-level Document\n",
        "Next we will construct a corpus of documents from the KJV text. We will consider 3 definition of \"document\"\n",
        "\n",
        "* book-level\n",
        "* chapter-level\n",
        "* verse-level\n",
        "\n",
        "We will represent the corpus of documents by the Pandas DataFrame object."
      ]
    },
    {
      "cell_type": "code",
      "metadata": {
        "id": "_93r1H4WwtwZ",
        "colab_type": "code",
        "colab": {}
      },
      "source": [
        "# A common constructor of a corpus DataFrame, when input a list of documents\n",
        "def doc_df(doclist):\n",
        "    osisid = [doc.get('osisid') for doc in doclist]\n",
        "    doc_text = [doc.text for doc in doclist]\n",
        "    index = range(len(osisid))\n",
        "    \n",
        "    return pd.DataFrame({\n",
        "        'osisid': osisid,\n",
        "        'text': doc_text,\n",
        "    }, index=index)\n",
        "\n",
        "verse_docs = soup.findAll('verse')\n",
        "verse_df = doc_df(verse_docs)\n",
        "\n",
        "chap_docs = soup.findAll('chapter')\n",
        "chap_df = doc_df(chap_docs)\n",
        "\n",
        "book_docs = soup.findAll('div', type='book')\n",
        "book_df = doc_df(book_docs)"
      ],
      "execution_count": 0,
      "outputs": []
    },
    {
      "cell_type": "code",
      "metadata": {
        "id": "DIoeAoNRwUoQ",
        "colab_type": "code",
        "outputId": "905bd48f-3df9-46ae-9be2-3adfc6d1c8aa",
        "colab": {
          "base_uri": "https://localhost:8080/",
          "height": 119
        }
      },
      "source": [
        "# we can access individual documents by a range or by loc\n",
        "print(verse_df[17:18])\n",
        "print()\n",
        "# or\n",
        "print(verse_df.loc[17])\n",
        "#\n",
        "# but cannot do the ambiguous\n",
        "# verse_df[17]\n"
      ],
      "execution_count": 0,
      "outputs": [
        {
          "output_type": "stream",
          "text": [
            "      osisid                                               text\n",
            "17  Gen.1.18  And to rule over the day and over the night, a...\n",
            "\n",
            "osisid                                             Gen.1.18\n",
            "text      And to rule over the day and over the night, a...\n",
            "Name: 17, dtype: object\n"
          ],
          "name": "stdout"
        }
      ]
    },
    {
      "cell_type": "markdown",
      "metadata": {
        "id": "ZBEWprQTU_wZ",
        "colab_type": "text"
      },
      "source": [
        "### tokenization of text\n",
        "Instead of the raw text (with capitalization, punctuation, etc), we will be working with cleaned-up linguistic tokens.\n",
        "\n",
        "This will be done by the SpaCy package. \n",
        "\n",
        "Furthermore, we dont want to redo this task for verse_df, chapter_df, and book_df, so we will just perform token processing for verse_df, and rebuild the chapter_df and book_df based on the verse_df, and using just the lemma (tokens) instead of the raw text."
      ]
    },
    {
      "cell_type": "code",
      "metadata": {
        "id": "-NY3O_ewdcVb",
        "colab_type": "code",
        "colab": {}
      },
      "source": [
        "\n",
        "# add lemma as a new column in our verse-DataFrame\n",
        "verse_df['lemma'] = verse_df['text'].apply(process)"
      ],
      "execution_count": 0,
      "outputs": []
    },
    {
      "cell_type": "code",
      "metadata": {
        "id": "RzBXEVr329hv",
        "colab_type": "code",
        "colab": {}
      },
      "source": [
        "# create the book and chapter id based on the verse-id.\n",
        "def getBookId(dot3):\n",
        "    return dot3.split('.')[0]\n",
        "\n",
        "def getChapId(dot3):\n",
        "    parts = dot3.split('.')\n",
        "    return \".\".join(parts[:2])\n",
        "  \n",
        "verse_df['book_id'] = verse_df['osisid'].apply(getBookId)\n",
        "verse_df['chap_id'] = verse_df['osisid'].apply(getChapId)\n"
      ],
      "execution_count": 0,
      "outputs": []
    },
    {
      "cell_type": "code",
      "metadata": {
        "id": "cdETnvgg7Fid",
        "colab_type": "code",
        "colab": {}
      },
      "source": [
        "# This is a good Save Point\n",
        "import pickle\n",
        "pickle.dump( verse_df, open( WORK_DIR + PART1_RESULT, \"wb\" ) )"
      ],
      "execution_count": 0,
      "outputs": []
    },
    {
      "cell_type": "markdown",
      "metadata": {
        "id": "dmVFOplB9rTf",
        "colab_type": "text"
      },
      "source": [
        "# PART 2. Interpretation"
      ]
    },
    {
      "cell_type": "code",
      "metadata": {
        "id": "7vu19uIu9vJZ",
        "colab_type": "code",
        "colab": {}
      },
      "source": [
        "# If skipped PART 1, then run this to load verse_df and continue\n",
        "import pickle\n",
        "verse_df = pickle.load( open( WORK_DIR + PART1_RESULT, \"rb\" ) )"
      ],
      "execution_count": 0,
      "outputs": []
    },
    {
      "cell_type": "code",
      "metadata": {
        "id": "xa_qTjmH7_D0",
        "colab_type": "code",
        "outputId": "12c69092-95d0-424c-bc9a-71268426b5ce",
        "colab": {
          "base_uri": "https://localhost:8080/",
          "height": 221
        }
      },
      "source": [
        "# Now we can paste together the verse_lemma into chapter and book objects\n",
        "chap_lemma_df = (verse_df.groupby('chap_id')['lemma']).apply(\" \".join)\n",
        "# let's look at typical lengths of these objects\n",
        "chap_lemma_df.apply(len)[:10]"
      ],
      "execution_count": 0,
      "outputs": [
        {
          "output_type": "execute_result",
          "data": {
            "text/plain": [
              "chap_id\n",
              "1Chr.1     3997\n",
              "1Chr.10    1913\n",
              "1Chr.11    5141\n",
              "1Chr.12    5288\n",
              "1Chr.13    1980\n",
              "1Chr.14    1916\n",
              "1Chr.15    3875\n",
              "1Chr.16    4474\n",
              "1Chr.17    3976\n",
              "1Chr.18    2278\n",
              "Name: lemma, dtype: int64"
            ]
          },
          "metadata": {
            "tags": []
          },
          "execution_count": 8
        }
      ]
    },
    {
      "cell_type": "code",
      "metadata": {
        "id": "my7PsInG_cwv",
        "colab_type": "code",
        "outputId": "f321da88-deb3-4845-e827-d23186b88d8a",
        "colab": {
          "base_uri": "https://localhost:8080/",
          "height": 221
        }
      },
      "source": [
        "# same for constructing the book-level dataframe\n",
        "book_lemma_df = (verse_df.groupby('book_id')['lemma']).apply(\" \".join)\n",
        "book_lemma_df.apply(len)[:10]"
      ],
      "execution_count": 0,
      "outputs": [
        {
          "output_type": "execute_result",
          "data": {
            "text/plain": [
              "book_id\n",
              "1Chr      110525\n",
              "1Cor       48764\n",
              "1John      12736\n",
              "1Kgs      125610\n",
              "1Pet       13191\n",
              "1Sam      127897\n",
              "1Thess      9502\n",
              "1Tim       12514\n",
              "2Chr      135888\n",
              "2Cor       31563\n",
              "Name: lemma, dtype: int64"
            ]
          },
          "metadata": {
            "tags": []
          },
          "execution_count": 9
        }
      ]
    },
    {
      "cell_type": "markdown",
      "metadata": {
        "id": "rLYPKXyjH6UU",
        "colab_type": "text"
      },
      "source": [
        "## Word occurrence, Term Frequency and IDF\n",
        "For each corpus, we can compute the Document Term-frequency Matrix (DTM) and also the Inverse Document Frequency.\n",
        "\n",
        "Vectorizer refs:\n",
        "* [Textacy](https://chartbeat-labs.github.io/textacy/getting_started/quickstart.html#make-a-corpus://)\n",
        "* [sklearn vectorizer](https://towardsdatascience.com/hacking-scikit-learns-vectorizers-9ef26a7170af://)\n"
      ]
    },
    {
      "cell_type": "code",
      "metadata": {
        "id": "oO7CbBnwHwrt",
        "colab_type": "code",
        "outputId": "d9c1bc74-be42-4e55-8c97-551ca334c9ec",
        "colab": {
          "base_uri": "https://localhost:8080/",
          "height": 34
        }
      },
      "source": [
        "from sklearn.feature_extraction.text import CountVectorizer, TfidfVectorizer\n",
        "\n",
        "# Normally we would pass in the \"process\" function to sklearns vectorizer\n",
        "# as a preprocessing step\n",
        "# but now we already have that in the lemma column of our DataFrame\n",
        "#\n",
        "#toDTM = CountVectorizer(preprocessor=process)\n",
        "#chap_DTM = toDTM.fit_transform(chapters_text).todense()\n",
        "#\n",
        "#vectorizer = TfidfVectorizer(preprocessor=process, stop_words=None)\n",
        "#dtm = vectorizer.fit_transform(chapters_text).todense()\n",
        "\n",
        "def compute_vectorizer(docs):\n",
        "    toDTM = CountVectorizer()\n",
        "    vectorizer = TfidfVectorizer(stop_words=None)\n",
        "\n",
        "    DTM = toDTM.fit_transform(docs).todense()\n",
        "    idf = vectorizer.fit_transform(docs).todense()\n",
        "    words = toDTM.get_feature_names()\n",
        "\n",
        "    # add a DTM where \"the\" is normalized to 100\n",
        "    # but for verse-level, if TF(the)=0 or 1, and TF(faith)=3, then it will dominate as 300\n",
        "    idx_the = words.index('the')\n",
        "    # avoid zero-divider\n",
        "    col_the = DTM[:,idx_the]+1.0\n",
        "    DTM_the = (DTM/col_the)*100.0\n",
        "    \n",
        "    result = {\n",
        "        'DTM':DTM,\n",
        "        'DTM_the':DTM_the,\n",
        "        'IDF':idf,\n",
        "        'words':words, # vocabulary\n",
        "        'toDTM':toDTM, #Count_Vectorizer\n",
        "        'vectorizer':vectorizer #TFIDF_vectorizer\n",
        "    }\n",
        "    #\n",
        "    #If the corpus is small, we can visually see the document matrix\n",
        "    #summary = pd.DataFrame(toDTM, columns = verse_voc, index = documents).astype(float)\n",
        "    #\n",
        "    return result\n",
        "\n",
        "    \n",
        "# Apply to verse-level\n",
        "verse_docs = verse_df['lemma'].tolist() \n",
        "verse_result = compute_vectorizer(verse_docs)\n",
        "\n",
        "len(verse_result['words'])\n",
        "# 9979 for text\n",
        "# 10067 for lemma"
      ],
      "execution_count": 0,
      "outputs": [
        {
          "output_type": "execute_result",
          "data": {
            "text/plain": [
              "10067"
            ]
          },
          "metadata": {
            "tags": []
          },
          "execution_count": 10
        }
      ]
    },
    {
      "cell_type": "code",
      "metadata": {
        "id": "KTbPNG1kbnxO",
        "colab_type": "code",
        "outputId": "3794707b-6d8b-466b-f1a7-bab22895da5c",
        "colab": {
          "base_uri": "https://localhost:8080/",
          "height": 102
        }
      },
      "source": [
        "chap_lemma_df[:3]"
      ],
      "execution_count": 0,
      "outputs": [
        {
          "output_type": "execute_result",
          "data": {
            "text/plain": [
              "chap_id\n",
              "1Chr.1     adam , sheth , enosh , kenan , mahalaleel , je...\n",
              "1Chr.10    now the philistines fight against israel ; and...\n",
              "1Chr.11    then all israel gather we to david unto hebron...\n",
              "Name: lemma, dtype: object"
            ]
          },
          "metadata": {
            "tags": []
          },
          "execution_count": 11
        }
      ]
    },
    {
      "cell_type": "code",
      "metadata": {
        "id": "TZaHT4CObevf",
        "colab_type": "code",
        "outputId": "97e9f44b-0b02-4f90-80af-c5655a25dd5a",
        "colab": {
          "base_uri": "https://localhost:8080/",
          "height": 34
        }
      },
      "source": [
        "# Apply to chapter-level\n",
        "chap_result = compute_vectorizer(chap_lemma_df)\n",
        "\n",
        "len(chap_result['words'])"
      ],
      "execution_count": 0,
      "outputs": [
        {
          "output_type": "execute_result",
          "data": {
            "text/plain": [
              "10067"
            ]
          },
          "metadata": {
            "tags": []
          },
          "execution_count": 12
        }
      ]
    },
    {
      "cell_type": "code",
      "metadata": {
        "id": "5pNPdgrncUiN",
        "colab_type": "code",
        "outputId": "51f4cf3a-004e-4e4f-9de3-5805e7702a0d",
        "colab": {
          "base_uri": "https://localhost:8080/",
          "height": 34
        }
      },
      "source": [
        "# Apply to book-level\n",
        "book_result = compute_vectorizer(book_lemma_df)\n",
        "\n",
        "len(book_result['words'])\n"
      ],
      "execution_count": 0,
      "outputs": [
        {
          "output_type": "execute_result",
          "data": {
            "text/plain": [
              "10067"
            ]
          },
          "metadata": {
            "tags": []
          },
          "execution_count": 13
        }
      ]
    },
    {
      "cell_type": "code",
      "metadata": {
        "id": "5jZgEeP_jez0",
        "colab_type": "code",
        "outputId": "1f09ec99-54f4-4d46-b785-6895ced9261e",
        "colab": {
          "base_uri": "https://localhost:8080/",
          "height": 238
        }
      },
      "source": [
        "# Explore how to get a normalized DTM so that \"the\" has same TF in all docs\n",
        "idx_the = book_result['words'].index('the')\n",
        "col_the = book_result['DTM'][:,idx_the]+0.001\n",
        "100*book_result['DTM']/col_the\n",
        "#book_result['DTM']\n"
      ],
      "execution_count": 0,
      "outputs": [
        {
          "output_type": "execute_result",
          "data": {
            "text/plain": [
              "matrix([[0.69930037, 0.09324005, 0.        , ..., 0.        , 0.        ,\n",
              "         0.        ],\n",
              "        [0.        , 0.        , 0.        , ..., 0.        , 0.        ,\n",
              "         0.        ],\n",
              "        [0.        , 0.        , 0.        , ..., 0.        , 0.        ,\n",
              "         0.        ],\n",
              "        ...,\n",
              "        [0.        , 0.        , 0.        , ..., 0.        , 0.        ,\n",
              "         0.        ],\n",
              "        [0.        , 0.        , 0.        , ..., 0.        , 0.        ,\n",
              "         0.        ],\n",
              "        [0.        , 0.        , 0.        , ..., 0.        , 0.        ,\n",
              "         0.        ]])"
            ]
          },
          "metadata": {
            "tags": []
          },
          "execution_count": 14
        }
      ]
    },
    {
      "cell_type": "markdown",
      "metadata": {
        "id": "akpLjCVHcmy8",
        "colab_type": "text"
      },
      "source": [
        "### Interpretation of IDF result by example\n"
      ]
    },
    {
      "cell_type": "code",
      "metadata": {
        "id": "CkojIenHMeM3",
        "colab_type": "code",
        "outputId": "a897105b-a7bf-43d8-9dbe-dbff311ecda7",
        "colab": {
          "base_uri": "https://localhost:8080/",
          "height": 378
        }
      },
      "source": [
        "import matplotlib.pyplot as plt\n",
        "# DEMO\n",
        "query1 = \"The righteous shall live by faith.\"\n",
        "\n",
        "def get_sentence_idfs(idf_model, sentence, preproc_needed=True):\n",
        "    if preproc_needed:\n",
        "        words_in_query = process(sentence).split(\" \")\n",
        "    else:\n",
        "        #sentence is already in lemma form\n",
        "        words_in_query = sentence.split(\" \")\n",
        "    # filter out-of-vocabulary\n",
        "    seen_words = [w for w in words_in_query if w in idf_model['words']]\n",
        "    # get idf\n",
        "    idx = [idf_model['words'].index(i) for i in seen_words]\n",
        "    idf_values = [idf_model['vectorizer'].idf_[i] for i in idx]\n",
        "    return (idf_values, seen_words)\n",
        "  \n",
        "def show_query_idf(idf_model, query):\n",
        "    #grab the idf values of words in the query\n",
        "    (idf_values, seen_words) = get_sentence_idfs(idf_model, query)\n",
        "    \n",
        "    #plot the idf values for each word\n",
        "    ax = pd.Series(idf_values, index = seen_words).plot(kind = 'bar')\n",
        "    plt.show()\n",
        "    ax.grid()\n",
        "    \n",
        "show_query_idf(chap_result, query1)"
      ],
      "execution_count": 0,
      "outputs": [
        {
          "output_type": "display_data",
          "data": {
            "image/png": "[encoded data removed]",
            "text/plain": [
              "<matplotlib.figure.Figure at 0x7fc9f6527320>"
            ]
          },
          "metadata": {
            "tags": []
          }
        }
      ]
    },
    {
      "cell_type": "code",
      "metadata": {
        "id": "3UXDd-DMGmRL",
        "colab_type": "code",
        "outputId": "5d312441-b125-44a3-e446-03e1ed7a3e29",
        "colab": {
          "base_uri": "https://localhost:8080/",
          "height": 378
        }
      },
      "source": [
        "show_query_idf(verse_result, query1)"
      ],
      "execution_count": 0,
      "outputs": [
        {
          "output_type": "display_data",
          "data": {
            "image/png": "[encoded data removed]",
            "text/plain": [
              "<matplotlib.figure.Figure at 0x7fc9f4eadba8>"
            ]
          },
          "metadata": {
            "tags": []
          }
        }
      ]
    },
    {
      "cell_type": "code",
      "metadata": {
        "id": "ZIO8Q_hqGZvp",
        "colab_type": "code",
        "outputId": "81f82738-b047-41ed-d0e6-faebf29df278",
        "colab": {
          "base_uri": "https://localhost:8080/",
          "height": 381
        }
      },
      "source": [
        "show_query_idf(book_result, query1)"
      ],
      "execution_count": 0,
      "outputs": [
        {
          "output_type": "display_data",
          "data": {
            "image/png": "[encoded data removed]",
            "text/plain": [
              "<matplotlib.figure.Figure at 0x7fca5214ce48>"
            ]
          },
          "metadata": {
            "tags": []
          }
        }
      ]
    },
    {
      "cell_type": "markdown",
      "metadata": {
        "id": "EQcZgLasMeQv",
        "colab_type": "text"
      },
      "source": [
        "#### Observations on document definition\n",
        "* The range (max IDF) is defined by log(N), so verse-level has the largest N, book-level IDF has the least N.\n",
        "* The key is the relative variation among words.\n",
        "* On the book level, most words would appear, and thus less distinction among words when using book-IDF\n",
        "* Verses are shortest documents, containing less words, so the verse-IDF variations would emphasize the frequent words, such as stopwords. Meaningful words will appear over multiple documents and their IDF variations will be high but relatively similar. \n",
        "\n",
        "Conclusion: using the Chapter-level IDF will give the best balance, with emphasis on meaningful words, while not neglecting the frequent words."
      ]
    },
    {
      "cell_type": "markdown",
      "metadata": {
        "id": "zd6vujB1WYOm",
        "colab_type": "text"
      },
      "source": [
        "### Sentence importance via average IDF\n",
        "Let us consider taking the mean IDF of words in a sentence. (Sum of IDF would vote for longer sentences)\n",
        "we can use Mean(top60% words) so that the bottom 40% dropped will be used mostly by stopwords. This may slightly favor longer sentences.\n",
        "\n",
        "We should test with a chapter or a short book first, since the processing is slow.\n",
        "We will definitely save the computed values for this stage."
      ]
    },
    {
      "cell_type": "code",
      "metadata": {
        "id": "7kMEL8vzXbdt",
        "colab_type": "code",
        "colab": {}
      },
      "source": [
        "import numpy as np\n",
        "\n",
        "def sent_mean_idf(sent_lemma, mean_top_pct=100, idf_model=verse_result):\n",
        "    # mean_top_pct: if negative value, it means to use absolute length    \n",
        "    preproc_flag = False\n",
        "    (idf_values, seen_words) = get_sentence_idfs(idf_model, sent_lemma, preproc_flag)\n",
        "    \n",
        "    if mean_top_pct < 100:\n",
        "        idf_values_sorted = sorted(idf_values)\n",
        "        if mean_top_pct < 0:\n",
        "            used_values = len(seen_words)+mean_top_pct\n",
        "            if used_values < 0:\n",
        "                used_values = 0\n",
        "        else:\n",
        "            used_values = int(len(seen_words)*(100-mean_top_pct)/100.0)\n",
        "        return np.mean(idf_values_sorted[used_values :])\n",
        "    else:\n",
        "        return np.mean(idf_values)\n",
        "      \n",
        "#very long processing\n",
        "#verse_df['verse_IDF1'] = verse_df['lemma'].apply(sent_mean_idf)"
      ],
      "execution_count": 0,
      "outputs": []
    },
    {
      "cell_type": "markdown",
      "metadata": {
        "id": "CHfyFo0oBpCp",
        "colab_type": "text"
      },
      "source": [
        "Applying these computation to the entire bible may take some time.  \n",
        "\n",
        "Since we are still at the exploratory stage, we can test our algorithms on just one book of the Bible."
      ]
    },
    {
      "cell_type": "code",
      "metadata": {
        "id": "xPwlleaxg8BB",
        "colab_type": "code",
        "outputId": "9c6b29f0-79c7-4831-d536-7391b5ed3cc2",
        "colab": {
          "base_uri": "https://localhost:8080/",
          "height": 701
        }
      },
      "source": [
        "# let's create a short test data\n",
        "t1 = verse_df[verse_df['book_id']=='1Tim']\n",
        "\n",
        "# add a column of pretty text that includes the verse number\n",
        "t1['ptext']=t1['osisid']+t1['text']\n",
        "t1['len']=t1['lemma'].apply(lambda x: len(x.split(\" \")))\n",
        "\n",
        "t1['verse_IDF1'] = t1['lemma'].apply(sent_mean_idf)\n",
        "\n",
        "print(t1['len'].corr(t1['verse_IDF1']))\n",
        "#shows -0.15950684772101073\n",
        "t1.plot.scatter(x='len', y='verse_IDF1')"
      ],
      "execution_count": 0,
      "outputs": [
        {
          "output_type": "stream",
          "text": [
            "/usr/local/lib/python3.6/dist-packages/ipykernel_launcher.py:4: SettingWithCopyWarning: \n",
            "A value is trying to be set on a copy of a slice from a DataFrame.\n",
            "Try using .loc[row_indexer,col_indexer] = value instead\n",
            "\n",
            "See the caveats in the documentation: http://pandas.pydata.org/pandas-docs/stable/indexing.html#indexing-view-versus-copy\n",
            "  after removing the cwd from sys.path.\n",
            "/usr/local/lib/python3.6/dist-packages/ipykernel_launcher.py:5: SettingWithCopyWarning: \n",
            "A value is trying to be set on a copy of a slice from a DataFrame.\n",
            "Try using .loc[row_indexer,col_indexer] = value instead\n",
            "\n",
            "See the caveats in the documentation: http://pandas.pydata.org/pandas-docs/stable/indexing.html#indexing-view-versus-copy\n",
            "  \"\"\"\n"
          ],
          "name": "stderr"
        },
        {
          "output_type": "stream",
          "text": [
            "-0.15950684772101073\n"
          ],
          "name": "stdout"
        },
        {
          "output_type": "stream",
          "text": [
            "/usr/local/lib/python3.6/dist-packages/ipykernel_launcher.py:7: SettingWithCopyWarning: \n",
            "A value is trying to be set on a copy of a slice from a DataFrame.\n",
            "Try using .loc[row_indexer,col_indexer] = value instead\n",
            "\n",
            "See the caveats in the documentation: http://pandas.pydata.org/pandas-docs/stable/indexing.html#indexing-view-versus-copy\n",
            "  import sys\n"
          ],
          "name": "stderr"
        },
        {
          "output_type": "execute_result",
          "data": {
            "text/plain": [
              "<matplotlib.axes._subplots.AxesSubplot at 0x7f8023cb92b0>"
            ]
          },
          "metadata": {
            "tags": []
          },
          "execution_count": 18
        },
        {
          "output_type": "display_data",
          "data": {
            "image/png": "[encoded data removed]",
            "text/plain": [
              "<matplotlib.figure.Figure at 0x7f8023ce7908>"
            ]
          },
          "metadata": {
            "tags": []
          }
        }
      ]
    },
    {
      "cell_type": "code",
      "metadata": {
        "id": "1w7O6aK-Cs3q",
        "colab_type": "code",
        "outputId": "6e3add08-64f0-4dc5-d9b3-cd001dfd0d10",
        "colab": {
          "base_uri": "https://localhost:8080/",
          "height": 3012
        }
      },
      "source": [
        "t1.sort_values('verse_IDF1')['ptext'].apply(print)"
      ],
      "execution_count": 0,
      "outputs": [
        {
          "output_type": "stream",
          "text": [
            "1Tim.2.4Who will have all men to be saved, and to come unto the knowledge of the truth.\n",
            "1Tim.4.5For it is sanctified by the word of God and prayer.\n",
            "1Tim.6.15Which in his times he shall shew, who is the blessed and only Potentate, the King of kings, and Lord of lords;\n",
            "1Tim.2.3For this is good and acceptable in the sight of God our Saviour;\n",
            "1Tim.1.14And the grace of our Lord was exceeding abundant with faith and love which is in Christ Jesus.\n",
            "1Tim.2.5For there is one God, and one mediator between God and men, the man Christ Jesus;\n",
            "1Tim.1.2Unto Timothy, my own son in the faith: Grace, mercy, and peace, from God our Father and Jesus Christ our Lord.\n",
            "1Tim.5.7And these things give in charge, that they may be blameless.\n",
            "1Tim.3.5(For if a man know not how to rule his own house, how shall he take care of the church of God?)\n",
            "1Tim.4.16Take heed unto thyself, and unto the doctrine; continue in them: for in doing this thou shalt both save thyself, and them that hear thee.\n",
            "1Tim.2.14And Adam was not deceived, but the woman being deceived was in the transgression.\n",
            "1Tim.6.7For we brought nothing into this world, and it is certain we can carry nothing out.\n",
            "1Tim.3.15But if I tarry long, that thou mayest know how thou oughtest to behave thyself in the house of God, which is the church of the living God, the pillar and ground of the truth.\n",
            "1Tim.1.1Paul, an apostle of Jesus Christ by the commandment of God our Saviour, and Lord Jesus Christ, which is our hope;\n",
            "1Tim.4.4For every creature of God is good, and nothing to be refused, if it be received with thanksgiving:\n",
            "1Tim.1.12And I thank Christ Jesus our Lord, who hath enabled me, for that he counted me faithful, putting me into the ministry;\n",
            "1Tim.3.12Let the deacons be the husbands of one wife, ruling their children and their own houses well.\n",
            "1Tim.5.9Let not a widow be taken into the number under threescore years old, having been the wife of one man,\n",
            "1Tim.1.8But we know that the law is good, if a man use it lawfully;\n",
            "1Tim.3.7Moreover he must have a good report of them which are without; lest he fall into reproach and the snare of the devil.\n",
            "1Tim.1.11According to the glorious gospel of the blessed God, which was committed to my trust.\n",
            "1Tim.6.2And they that have believing masters, let them not despise them, because they are brethren; but rather do them service, because they are faithful and beloved, partakers of the benefit. These things teach and exhort.\n",
            "1Tim.4.14Neglect not the gift that is in thee, which was given thee by prophecy, with the laying on of the hands of the presbytery.\n",
            "1Tim.6.1Let as many servants as are under the yoke count their own masters worthy of all honour, that the name of God and his doctrine be not blasphemed.\n",
            "1Tim.5.20Them that sin rebuke before all, that others also may fear.\n",
            "1Tim.4.10For therefore we both labour and suffer reproach, because we trust in the living God, who is the Saviour of all men, specially of those that believe.\n",
            "1Tim.5.1Rebuke not an elder, but intreat him as a father; and the younger men as brethren;\n",
            "1Tim.2.1I exhort therefore, that, first of all, supplications, prayers, intercessions, and giving of thanks, be made for all men;\n",
            "1Tim.5.6But she that liveth in pleasure is dead while she liveth.\n",
            "1Tim.6.3If any man teach otherwise, and consent not to wholesome words, even the words of our Lord Jesus Christ, and to the doctrine which is according to godliness;\n",
            "1Tim.4.8For bodily exercise profiteth little: but godliness is profitable unto all things, having promise of the life that now is, and of that which is to come.\n",
            "1Tim.1.5Now the end of the commandment is charity out of a pure heart, and of a good conscience, and of faith unfeigned:\n",
            "1Tim.5.16If any man or woman that believeth have widows, let them relieve them, and let not the church be charged; that it may relieve them that are widows indeed.\n",
            "1Tim.6.19Laying up in store for themselves a good foundation against the time to come, that they may lay hold on eternal life.\n",
            "1Tim.1.15This is a faithful saying, and worthy of all acceptation, that Christ Jesus came into the world to save sinners; of whom I am chief.\n",
            "1Tim.2.2For kings, and for all that are in authority; that we may lead a quiet and peaceable life in all godliness and honesty.\n",
            "1Tim.4.6If thou put the brethren in remembrance of these things, thou shalt be a good minister of Jesus Christ, nourished up in the words of faith and of good doctrine, whereunto thou hast attained.\n",
            "1Tim.4.3Forbidding to marry, and commanding to abstain from meats, which God hath created to be received with thanksgiving of them which believe and know the truth.\n",
            "1Tim.6.10For the love of money is the root of all evil: which while some coveted after, they have erred from the faith, and pierced themselves through with many sorrows.\n",
            "1Tim.3.16And without controversy great is the mystery of godliness: God was manifest in the flesh, justified in the Spirit, seen of angels, preached unto the Gentiles, believed on in the world, received up into glory.\n",
            "1Tim.3.14These things write I unto thee, hoping to come unto thee shortly:\n",
            "1Tim.2.12But I suffer not a woman to teach, nor to usurp authority over the man, but to be in silence.\n",
            "1Tim.5.25Likewise also the good works of some are manifest beforehand; and they that are otherwise cannot be hid.\n",
            "1Tim.1.9Knowing this, that the law is not made for a righteous man, but for the lawless and disobedient, for the ungodly and for sinners, for unholy and profane, for murderers of fathers and murderers of mothers, for manslayers,\n",
            "1Tim.5.8But if any provide not for his own, and specially for those of his own house, he hath denied the faith, and is worse than an infidel.\n",
            "1Tim.2.6Who gave himself a ransom for all, to be testified in due time.\n",
            "1Tim.3.13For they that have used the office of a deacon well purchase to themselves a good degree, and great boldness in the faith which is in Christ Jesus.\n",
            "1Tim.4.11These things command and teach.\n",
            "1Tim.5.10Well reported of for good works; if she have brought up children, if she have lodged strangers, if she have washed the saints' feet, if she have relieved the afflicted, if she have diligently followed every good work.\n",
            "1Tim.5.5Now she that is a widow indeed, and desolate, trusteth in God, and continueth in supplications and prayers night and day.\n",
            "1Tim.5.18For the scripture saith, Thou shalt not muzzle the ox that treadeth out the corn. And, The labourer is worthy of his reward.\n",
            "1Tim.6.18That they do good, that they be rich in good works, ready to distribute, willing to communicate;\n",
            "1Tim.1.20Of whom is Hymenaeus and Alexander; whom I have delivered unto Satan, that they may learn not to blaspheme.\n",
            "1Tim.5.24Some men's sins are open beforehand, going before to judgment; and some men they follow after.\n",
            "1Tim.6.17Charge them that are rich in this world, that they be not highminded, nor trust in uncertain riches, but in the living God, who giveth us richly all things to enjoy;\n",
            "1Tim.5.12Having damnation, because they have cast off their first faith.\n",
            "1Tim.2.7Whereunto I am ordained a preacher, and an apostle, (I speak the truth in Christ, and lie not;) a teacher of the Gentiles in faith and verity.\n",
            "1Tim.1.7Desiring to be teachers of the law; understanding neither what they say, nor whereof they affirm.\n",
            "1Tim.2.8I will therefore that men pray every where, lifting up holy hands, without wrath and doubting.\n",
            "1Tim.1.18This charge I commit unto thee, son Timothy, according to the prophecies which went before on thee, that thou by them mightest war a good warfare;\n",
            "1Tim.5.21I charge thee before God, and the Lord Jesus Christ, and the elect angels, that thou observe these things without preferring one before another, doing nothing by partiality.\n",
            "1Tim.1.16Howbeit for this cause I obtained mercy, that in me first Jesus Christ might shew forth all longsuffering, for a pattern to them which should hereafter believe on him to life everlasting.\n",
            "1Tim.6.8And having food and raiment let us be therewith content.\n",
            "1Tim.3.4One that ruleth well his own house, having his children in subjection with all gravity;\n",
            "1Tim.3.6Not a novice, lest being lifted up with pride he fall into the condemnation of the devil.\n",
            "1Tim.3.10And let these also first be proved; then let them use the office of a deacon, being found blameless.\n",
            "1Tim.5.14I will therefore that the younger women marry, bear children, guide the house, give none occasion to the adversary to speak reproachfully.\n",
            "1Tim.5.11But the younger widows refuse: for when they have begun to wax wanton against Christ, they will marry;\n",
            "1Tim.6.16Who only hath immortality, dwelling in the light which no man can approach unto; whom no man hath seen, nor can see: to whom be honour and power everlasting. Amen.\n",
            "1Tim.3.9Holding the mystery of the faith in a pure conscience.\n",
            "1Tim.5.2The elder women as mothers; the younger as sisters, with all purity.\n",
            "1Tim.5.13And withal they learn to be idle, wandering about from house to house; and not only idle, but tattlers also and busybodies, speaking things which they ought not.\n",
            "1Tim.4.12Let no man despise thy youth; but be thou an example of the believers, in word, in conversation, in charity, in spirit, in faith, in purity.\n",
            "1Tim.1.3As I besought thee to abide still at Ephesus, when I went into Macedonia, that thou mightest charge some that they teach no other doctrine,\n",
            "1Tim.5.4But if any widow have children or nephews, let them learn first to shew piety at home, and to requite their parents: for that is good and acceptable before God.\n",
            "1Tim.1.17Now unto the King eternal, immortal, invisible, the only wise God, be honour and glory for ever and ever. Amen.\n",
            "1Tim.6.9But they that will be rich fall into temptation and a snare, and into many foolish and hurtful lusts, which drown men in destruction and perdition.\n",
            "1Tim.4.1Now the Spirit speaketh expressly, that in the latter times some shall depart from the faith, giving heed to seducing spirits, and doctrines of devils;\n",
            "1Tim.6.13I give thee charge in the sight of God, who quickeneth all things, and before Christ Jesus, who before Pontius Pilate witnessed a good confession;\n",
            "1Tim.5.17Let the elders that rule well be counted worthy of double honour, especially they who labour in the word and doctrine.\n",
            "1Tim.4.15Meditate upon these things; give thyself wholly to them; that thy profiting may appear to all.\n",
            "1Tim.1.10For whoremongers, for them that defile themselves with mankind, for menstealers, for liars, for perjured persons, and if there be any other thing that is contrary to sound doctrine;\n",
            "1Tim.2.15Notwithstanding she shall be saved in childbearing, if they continue in faith and charity and holiness with sobriety.\n",
            "1Tim.6.14That thou keep this commandment without spot, unrebukeable, until the appearing of our Lord Jesus Christ:\n",
            "1Tim.5.22Lay hands suddenly on no man, neither be partaker of other men's sins: keep thyself pure.\n",
            "1Tim.4.9This is a faithful saying and worthy of all acceptation.\n",
            "1Tim.2.11Let the woman learn in silence with all subjection.\n",
            "1Tim.1.13Who was before a blasphemer, and a persecutor, and injurious: but I obtained mercy, because I did it ignorantly in unbelief.\n",
            "1Tim.3.1This is a true saying, If a man desire the office of a bishop, he desireth a good work.\n",
            "1Tim.6.11But thou, O man of God, flee these things; and follow after righteousness, godliness, faith, love, patience, meekness.\n",
            "1Tim.3.11Even so must their wives be grave, not slanderers, sober, faithful in all things.\n",
            "1Tim.5.19Against an elder receive not an accusation, but before two or three witnesses.\n",
            "1Tim.4.13Till I come, give attendance to reading, to exhortation, to doctrine.\n",
            "1Tim.6.21Which some professing have erred concerning the faith. Grace be with thee. Amen.\n",
            "1Tim.1.19Holding faith, and a good conscience; which some having put away concerning faith have made shipwreck:\n",
            "1Tim.6.12Fight the good fight of faith, lay hold on eternal life, whereunto thou art also called, and hast professed a good profession before many witnesses.\n",
            "1Tim.5.3Honour widows that are widows indeed.\n",
            "1Tim.6.5Perverse disputings of men of corrupt minds, and destitute of the truth, supposing that gain is godliness: from such withdraw thyself.\n",
            "1Tim.5.15For some are already turned aside after Satan.\n",
            "1Tim.3.8Likewise must the deacons be grave, not doubletongued, not given to much wine, not greedy of filthy lucre;\n",
            "1Tim.1.4Neither give heed to fables and endless genealogies, which minister questions, rather than godly edifying which is in faith: so do. \n",
            "1Tim.6.20O Timothy, keep that which is committed to thy trust, avoiding profane and vain babblings, and oppositions of science falsely so called:\n",
            "1Tim.2.13For Adam was first formed, then Eve.\n",
            "1Tim.1.6From which some having swerved have turned aside unto vain jangling;\n",
            "1Tim.5.23Drink no longer water, but use a little wine for thy stomach's sake and thine often infirmities.\n",
            "1Tim.6.6But godliness with contentment is great gain.\n",
            "1Tim.2.10But (which becometh women professing godliness) with good works.\n",
            "1Tim.3.2A bishop then must be blameless, the husband of one wife, vigilant, sober, of good behaviour, given to hospitality, apt to teach;\n",
            "1Tim.4.2Speaking lies in hypocrisy; having their conscience seared with a hot iron;\n",
            "1Tim.4.7But refuse profane and old wives' fables, and exercise thyself rather unto godliness.\n",
            "1Tim.6.4He is proud, knowing nothing, but doting about questions and strifes of words, whereof cometh envy, strife, railings, evil surmisings,\n",
            "1Tim.3.3Not given to wine, no striker, not greedy of filthy lucre; but patient, not a brawler, not covetous;\n",
            "1Tim.2.9In like manner also, that women adorn themselves in modest apparel, with shamefacedness and sobriety; not with broided hair, or gold, or pearls, or costly array;\n"
          ],
          "name": "stdout"
        },
        {
          "output_type": "execute_result",
          "data": {
            "text/plain": [
              "29720    None\n",
              "29752    None\n",
              "29803    None\n",
              "29719    None\n",
              "29710    None\n",
              "29721    None\n",
              "29698    None\n",
              "29770    None\n",
              "29736    None\n",
              "29763    None\n",
              "29730    None\n",
              "29795    None\n",
              "29746    None\n",
              "29697    None\n",
              "29751    None\n",
              "29708    None\n",
              "29743    None\n",
              "29772    None\n",
              "29704    None\n",
              "29738    None\n",
              "29707    None\n",
              "29790    None\n",
              "29761    None\n",
              "29789    None\n",
              "29783    None\n",
              "29757    None\n",
              "29764    None\n",
              "29717    None\n",
              "29769    None\n",
              "29791    None\n",
              "         ... \n",
              "29802    None\n",
              "29785    None\n",
              "29756    None\n",
              "29727    None\n",
              "29709    None\n",
              "29732    None\n",
              "29799    None\n",
              "29742    None\n",
              "29782    None\n",
              "29760    None\n",
              "29809    None\n",
              "29715    None\n",
              "29800    None\n",
              "29766    None\n",
              "29793    None\n",
              "29778    None\n",
              "29739    None\n",
              "29700    None\n",
              "29808    None\n",
              "29729    None\n",
              "29702    None\n",
              "29786    None\n",
              "29794    None\n",
              "29726    None\n",
              "29733    None\n",
              "29749    None\n",
              "29754    None\n",
              "29792    None\n",
              "29734    None\n",
              "29725    None\n",
              "Name: ptext, Length: 113, dtype: object"
            ]
          },
          "metadata": {
            "tags": []
          },
          "execution_count": 19
        }
      ]
    },
    {
      "cell_type": "markdown",
      "metadata": {
        "id": "AcmZzqeij9mR",
        "colab_type": "text"
      },
      "source": [
        "#### Observations based on [1 Timothy 2](https://www.biblegateway.com/passage/?search=1+Timothy+2&version=KJV):\n",
        "* low IDF 1Tim2.3, 1Tim2.4:  use simple words\n",
        "* high IDF 1Tim2.9, 1Tim2.10: use rarer words\n",
        "* IDF reflects only the simplicity or complexity of words, and not the theological importance\n",
        "* (for sentence centrality we will need Verse Proximity Network approach)\n",
        "* we can instead use the IDF to grade how simple a sentence would be for memory"
      ]
    },
    {
      "cell_type": "code",
      "metadata": {
        "id": "aguesZchiV8Z",
        "colab_type": "code",
        "outputId": "bd341094-027e-46f0-8ba3-99c4cd5c54df",
        "colab": {
          "base_uri": "https://localhost:8080/",
          "height": 497
        }
      },
      "source": [
        "# IDF2 attempt: use top 60% of the words\n",
        "t1['verse_IDF2'] = t1['lemma'].apply(lambda x:sent_mean_idf(x, mean_top_pct=60))\n",
        "print(t1['len'].corr(t1['verse_IDF2']))\n",
        "#shows -0.1352419300459481\n",
        "t1.plot.scatter(x='len', y='verse_IDF2')"
      ],
      "execution_count": 0,
      "outputs": [
        {
          "output_type": "stream",
          "text": [
            "-0.049998765101792464\n"
          ],
          "name": "stdout"
        },
        {
          "output_type": "stream",
          "text": [
            "/usr/local/lib/python3.6/dist-packages/ipykernel_launcher.py:1: SettingWithCopyWarning: \n",
            "A value is trying to be set on a copy of a slice from a DataFrame.\n",
            "Try using .loc[row_indexer,col_indexer] = value instead\n",
            "\n",
            "See the caveats in the documentation: http://pandas.pydata.org/pandas-docs/stable/indexing.html#indexing-view-versus-copy\n",
            "  \"\"\"Entry point for launching an IPython kernel.\n"
          ],
          "name": "stderr"
        },
        {
          "output_type": "execute_result",
          "data": {
            "text/plain": [
              "<matplotlib.axes._subplots.AxesSubplot at 0x7f8023cc7550>"
            ]
          },
          "metadata": {
            "tags": []
          },
          "execution_count": 20
        },
        {
          "output_type": "display_data",
          "data": {
            "image/png": "[encoded data removed]",
            "text/plain": [
              "<matplotlib.figure.Figure at 0x7f8023c0f5f8>"
            ]
          },
          "metadata": {
            "tags": []
          }
        }
      ]
    },
    {
      "cell_type": "code",
      "metadata": {
        "id": "Y94PmDf1l9ck",
        "colab_type": "code",
        "outputId": "36e3c155-3846-4eb4-96fe-af267f75996a",
        "colab": {
          "base_uri": "https://localhost:8080/",
          "height": 3012
        }
      },
      "source": [
        "t1.sort_values('verse_IDF2')['ptext'].apply(print)"
      ],
      "execution_count": 0,
      "outputs": [
        {
          "output_type": "stream",
          "text": [
            "1Tim.2.4Who will have all men to be saved, and to come unto the knowledge of the truth.\n",
            "1Tim.4.5For it is sanctified by the word of God and prayer.\n",
            "1Tim.6.15Which in his times he shall shew, who is the blessed and only Potentate, the King of kings, and Lord of lords;\n",
            "1Tim.2.5For there is one God, and one mediator between God and men, the man Christ Jesus;\n",
            "1Tim.2.3For this is good and acceptable in the sight of God our Saviour;\n",
            "1Tim.3.5(For if a man know not how to rule his own house, how shall he take care of the church of God?)\n",
            "1Tim.5.7And these things give in charge, that they may be blameless.\n",
            "1Tim.4.16Take heed unto thyself, and unto the doctrine; continue in them: for in doing this thou shalt both save thyself, and them that hear thee.\n",
            "1Tim.1.2Unto Timothy, my own son in the faith: Grace, mercy, and peace, from God our Father and Jesus Christ our Lord.\n",
            "1Tim.5.20Them that sin rebuke before all, that others also may fear.\n",
            "1Tim.2.14And Adam was not deceived, but the woman being deceived was in the transgression.\n",
            "1Tim.1.14And the grace of our Lord was exceeding abundant with faith and love which is in Christ Jesus.\n",
            "1Tim.5.9Let not a widow be taken into the number under threescore years old, having been the wife of one man,\n",
            "1Tim.6.7For we brought nothing into this world, and it is certain we can carry nothing out.\n",
            "1Tim.1.1Paul, an apostle of Jesus Christ by the commandment of God our Saviour, and Lord Jesus Christ, which is our hope;\n",
            "1Tim.4.4For every creature of God is good, and nothing to be refused, if it be received with thanksgiving:\n",
            "1Tim.5.1Rebuke not an elder, but intreat him as a father; and the younger men as brethren;\n",
            "1Tim.3.14These things write I unto thee, hoping to come unto thee shortly:\n",
            "1Tim.4.11These things command and teach.\n",
            "1Tim.3.12Let the deacons be the husbands of one wife, ruling their children and their own houses well.\n",
            "1Tim.3.15But if I tarry long, that thou mayest know how thou oughtest to behave thyself in the house of God, which is the church of the living God, the pillar and ground of the truth.\n",
            "1Tim.3.7Moreover he must have a good report of them which are without; lest he fall into reproach and the snare of the devil.\n",
            "1Tim.1.12And I thank Christ Jesus our Lord, who hath enabled me, for that he counted me faithful, putting me into the ministry;\n",
            "1Tim.1.8But we know that the law is good, if a man use it lawfully;\n",
            "1Tim.4.14Neglect not the gift that is in thee, which was given thee by prophecy, with the laying on of the hands of the presbytery.\n",
            "1Tim.4.10For therefore we both labour and suffer reproach, because we trust in the living God, who is the Saviour of all men, specially of those that believe.\n",
            "1Tim.2.6Who gave himself a ransom for all, to be testified in due time.\n",
            "1Tim.2.1I exhort therefore, that, first of all, supplications, prayers, intercessions, and giving of thanks, be made for all men;\n",
            "1Tim.6.19Laying up in store for themselves a good foundation against the time to come, that they may lay hold on eternal life.\n",
            "1Tim.6.1Let as many servants as are under the yoke count their own masters worthy of all honour, that the name of God and his doctrine be not blasphemed.\n",
            "1Tim.4.8For bodily exercise profiteth little: but godliness is profitable unto all things, having promise of the life that now is, and of that which is to come.\n",
            "1Tim.1.11According to the glorious gospel of the blessed God, which was committed to my trust.\n",
            "1Tim.2.8I will therefore that men pray every where, lifting up holy hands, without wrath and doubting.\n",
            "1Tim.5.6But she that liveth in pleasure is dead while she liveth.\n",
            "1Tim.2.12But I suffer not a woman to teach, nor to usurp authority over the man, but to be in silence.\n",
            "1Tim.4.6If thou put the brethren in remembrance of these things, thou shalt be a good minister of Jesus Christ, nourished up in the words of faith and of good doctrine, whereunto thou hast attained.\n",
            "1Tim.2.2For kings, and for all that are in authority; that we may lead a quiet and peaceable life in all godliness and honesty.\n",
            "1Tim.6.2And they that have believing masters, let them not despise them, because they are brethren; but rather do them service, because they are faithful and beloved, partakers of the benefit. These things teach and exhort.\n",
            "1Tim.6.3If any man teach otherwise, and consent not to wholesome words, even the words of our Lord Jesus Christ, and to the doctrine which is according to godliness;\n",
            "1Tim.5.24Some men's sins are open beforehand, going before to judgment; and some men they follow after.\n",
            "1Tim.5.10Well reported of for good works; if she have brought up children, if she have lodged strangers, if she have washed the saints' feet, if she have relieved the afflicted, if she have diligently followed every good work.\n",
            "1Tim.4.3Forbidding to marry, and commanding to abstain from meats, which God hath created to be received with thanksgiving of them which believe and know the truth.\n",
            "1Tim.6.18That they do good, that they be rich in good works, ready to distribute, willing to communicate;\n",
            "1Tim.5.16If any man or woman that believeth have widows, let them relieve them, and let not the church be charged; that it may relieve them that are widows indeed.\n",
            "1Tim.1.15This is a faithful saying, and worthy of all acceptation, that Christ Jesus came into the world to save sinners; of whom I am chief.\n",
            "1Tim.1.18This charge I commit unto thee, son Timothy, according to the prophecies which went before on thee, that thou by them mightest war a good warfare;\n",
            "1Tim.1.9Knowing this, that the law is not made for a righteous man, but for the lawless and disobedient, for the ungodly and for sinners, for unholy and profane, for murderers of fathers and murderers of mothers, for manslayers,\n",
            "1Tim.6.10For the love of money is the root of all evil: which while some coveted after, they have erred from the faith, and pierced themselves through with many sorrows.\n",
            "1Tim.5.8But if any provide not for his own, and specially for those of his own house, he hath denied the faith, and is worse than an infidel.\n",
            "1Tim.5.25Likewise also the good works of some are manifest beforehand; and they that are otherwise cannot be hid.\n",
            "1Tim.5.21I charge thee before God, and the Lord Jesus Christ, and the elect angels, that thou observe these things without preferring one before another, doing nothing by partiality.\n",
            "1Tim.5.19Against an elder receive not an accusation, but before two or three witnesses.\n",
            "1Tim.3.13For they that have used the office of a deacon well purchase to themselves a good degree, and great boldness in the faith which is in Christ Jesus.\n",
            "1Tim.6.16Who only hath immortality, dwelling in the light which no man can approach unto; whom no man hath seen, nor can see: to whom be honour and power everlasting. Amen.\n",
            "1Tim.5.2The elder women as mothers; the younger as sisters, with all purity.\n",
            "1Tim.3.16And without controversy great is the mystery of godliness: God was manifest in the flesh, justified in the Spirit, seen of angels, preached unto the Gentiles, believed on in the world, received up into glory.\n",
            "1Tim.1.5Now the end of the commandment is charity out of a pure heart, and of a good conscience, and of faith unfeigned:\n",
            "1Tim.5.12Having damnation, because they have cast off their first faith.\n",
            "1Tim.5.22Lay hands suddenly on no man, neither be partaker of other men's sins: keep thyself pure.\n",
            "1Tim.1.20Of whom is Hymenaeus and Alexander; whom I have delivered unto Satan, that they may learn not to blaspheme.\n",
            "1Tim.1.16Howbeit for this cause I obtained mercy, that in me first Jesus Christ might shew forth all longsuffering, for a pattern to them which should hereafter believe on him to life everlasting.\n",
            "1Tim.6.17Charge them that are rich in this world, that they be not highminded, nor trust in uncertain riches, but in the living God, who giveth us richly all things to enjoy;\n",
            "1Tim.3.4One that ruleth well his own house, having his children in subjection with all gravity;\n",
            "1Tim.5.5Now she that is a widow indeed, and desolate, trusteth in God, and continueth in supplications and prayers night and day.\n",
            "1Tim.5.14I will therefore that the younger women marry, bear children, guide the house, give none occasion to the adversary to speak reproachfully.\n",
            "1Tim.1.7Desiring to be teachers of the law; understanding neither what they say, nor whereof they affirm.\n",
            "1Tim.5.18For the scripture saith, Thou shalt not muzzle the ox that treadeth out the corn. And, The labourer is worthy of his reward.\n",
            "1Tim.6.13I give thee charge in the sight of God, who quickeneth all things, and before Christ Jesus, who before Pontius Pilate witnessed a good confession;\n",
            "1Tim.4.15Meditate upon these things; give thyself wholly to them; that thy profiting may appear to all.\n",
            "1Tim.2.11Let the woman learn in silence with all subjection.\n",
            "1Tim.1.3As I besought thee to abide still at Ephesus, when I went into Macedonia, that thou mightest charge some that they teach no other doctrine,\n",
            "1Tim.5.11But the younger widows refuse: for when they have begun to wax wanton against Christ, they will marry;\n",
            "1Tim.6.11But thou, O man of God, flee these things; and follow after righteousness, godliness, faith, love, patience, meekness.\n",
            "1Tim.4.12Let no man despise thy youth; but be thou an example of the believers, in word, in conversation, in charity, in spirit, in faith, in purity.\n",
            "1Tim.3.6Not a novice, lest being lifted up with pride he fall into the condemnation of the devil.\n",
            "1Tim.3.9Holding the mystery of the faith in a pure conscience.\n",
            "1Tim.3.10And let these also first be proved; then let them use the office of a deacon, being found blameless.\n",
            "1Tim.2.7Whereunto I am ordained a preacher, and an apostle, (I speak the truth in Christ, and lie not;) a teacher of the Gentiles in faith and verity.\n",
            "1Tim.5.4But if any widow have children or nephews, let them learn first to shew piety at home, and to requite their parents: for that is good and acceptable before God.\n",
            "1Tim.6.14That thou keep this commandment without spot, unrebukeable, until the appearing of our Lord Jesus Christ:\n",
            "1Tim.5.13And withal they learn to be idle, wandering about from house to house; and not only idle, but tattlers also and busybodies, speaking things which they ought not.\n",
            "1Tim.4.9This is a faithful saying and worthy of all acceptation.\n",
            "1Tim.1.10For whoremongers, for them that defile themselves with mankind, for menstealers, for liars, for perjured persons, and if there be any other thing that is contrary to sound doctrine;\n",
            "1Tim.1.19Holding faith, and a good conscience; which some having put away concerning faith have made shipwreck:\n",
            "1Tim.6.12Fight the good fight of faith, lay hold on eternal life, whereunto thou art also called, and hast professed a good profession before many witnesses.\n",
            "1Tim.6.8And having food and raiment let us be therewith content.\n",
            "1Tim.3.11Even so must their wives be grave, not slanderers, sober, faithful in all things.\n",
            "1Tim.4.1Now the Spirit speaketh expressly, that in the latter times some shall depart from the faith, giving heed to seducing spirits, and doctrines of devils;\n",
            "1Tim.1.17Now unto the King eternal, immortal, invisible, the only wise God, be honour and glory for ever and ever. Amen.\n",
            "1Tim.6.9But they that will be rich fall into temptation and a snare, and into many foolish and hurtful lusts, which drown men in destruction and perdition.\n",
            "1Tim.5.17Let the elders that rule well be counted worthy of double honour, especially they who labour in the word and doctrine.\n",
            "1Tim.3.1This is a true saying, If a man desire the office of a bishop, he desireth a good work.\n",
            "1Tim.2.15Notwithstanding she shall be saved in childbearing, if they continue in faith and charity and holiness with sobriety.\n",
            "1Tim.4.13Till I come, give attendance to reading, to exhortation, to doctrine.\n",
            "1Tim.6.21Which some professing have erred concerning the faith. Grace be with thee. Amen.\n",
            "1Tim.1.13Who was before a blasphemer, and a persecutor, and injurious: but I obtained mercy, because I did it ignorantly in unbelief.\n",
            "1Tim.5.15For some are already turned aside after Satan.\n",
            "1Tim.2.13For Adam was first formed, then Eve.\n",
            "1Tim.2.10But (which becometh women professing godliness) with good works.\n",
            "1Tim.5.3Honour widows that are widows indeed.\n",
            "1Tim.6.6But godliness with contentment is great gain.\n",
            "1Tim.5.23Drink no longer water, but use a little wine for thy stomach's sake and thine often infirmities.\n",
            "1Tim.1.6From which some having swerved have turned aside unto vain jangling;\n",
            "1Tim.1.4Neither give heed to fables and endless genealogies, which minister questions, rather than godly edifying which is in faith: so do. \n",
            "1Tim.6.5Perverse disputings of men of corrupt minds, and destitute of the truth, supposing that gain is godliness: from such withdraw thyself.\n",
            "1Tim.4.2Speaking lies in hypocrisy; having their conscience seared with a hot iron;\n",
            "1Tim.4.7But refuse profane and old wives' fables, and exercise thyself rather unto godliness.\n",
            "1Tim.3.3Not given to wine, no striker, not greedy of filthy lucre; but patient, not a brawler, not covetous;\n",
            "1Tim.6.20O Timothy, keep that which is committed to thy trust, avoiding profane and vain babblings, and oppositions of science falsely so called:\n",
            "1Tim.3.8Likewise must the deacons be grave, not doubletongued, not given to much wine, not greedy of filthy lucre;\n",
            "1Tim.3.2A bishop then must be blameless, the husband of one wife, vigilant, sober, of good behaviour, given to hospitality, apt to teach;\n",
            "1Tim.6.4He is proud, knowing nothing, but doting about questions and strifes of words, whereof cometh envy, strife, railings, evil surmisings,\n",
            "1Tim.2.9In like manner also, that women adorn themselves in modest apparel, with shamefacedness and sobriety; not with broided hair, or gold, or pearls, or costly array;\n"
          ],
          "name": "stdout"
        },
        {
          "output_type": "execute_result",
          "data": {
            "text/plain": [
              "29720    None\n",
              "29752    None\n",
              "29803    None\n",
              "29721    None\n",
              "29719    None\n",
              "29736    None\n",
              "29770    None\n",
              "29763    None\n",
              "29698    None\n",
              "29783    None\n",
              "29730    None\n",
              "29710    None\n",
              "29772    None\n",
              "29795    None\n",
              "29697    None\n",
              "29751    None\n",
              "29764    None\n",
              "29745    None\n",
              "29758    None\n",
              "29743    None\n",
              "29746    None\n",
              "29738    None\n",
              "29708    None\n",
              "29704    None\n",
              "29761    None\n",
              "29757    None\n",
              "29722    None\n",
              "29717    None\n",
              "29807    None\n",
              "29789    None\n",
              "         ... \n",
              "29715    None\n",
              "29800    None\n",
              "29796    None\n",
              "29742    None\n",
              "29748    None\n",
              "29713    None\n",
              "29797    None\n",
              "29780    None\n",
              "29732    None\n",
              "29731    None\n",
              "29760    None\n",
              "29809    None\n",
              "29709    None\n",
              "29778    None\n",
              "29729    None\n",
              "29726    None\n",
              "29766    None\n",
              "29794    None\n",
              "29786    None\n",
              "29702    None\n",
              "29700    None\n",
              "29793    None\n",
              "29749    None\n",
              "29754    None\n",
              "29734    None\n",
              "29808    None\n",
              "29739    None\n",
              "29733    None\n",
              "29792    None\n",
              "29725    None\n",
              "Name: ptext, Length: 113, dtype: object"
            ]
          },
          "metadata": {
            "tags": []
          },
          "execution_count": 21
        }
      ]
    },
    {
      "cell_type": "code",
      "metadata": {
        "id": "6W4VRcO3n_Ap",
        "colab_type": "code",
        "outputId": "3924e804-7f20-42e8-94a9-81d3c1ed90c9",
        "colab": {
          "base_uri": "https://localhost:8080/",
          "height": 497
        }
      },
      "source": [
        "# IDF3 attempt: use top 15 of the words\n",
        "t1['verse_IDF3'] = t1['lemma'].apply(lambda x:sent_mean_idf(x, mean_top_pct=-15))\n",
        "print(t1['len'].corr(t1['verse_IDF3']))\n",
        "#shows -\n",
        "t1.plot.scatter(x='len', y='verse_IDF3')\n",
        "#t1.sort_values('verse_IDF3')['text'].apply(print)"
      ],
      "execution_count": 0,
      "outputs": [
        {
          "output_type": "stream",
          "text": [
            "0.6704999726142302\n"
          ],
          "name": "stdout"
        },
        {
          "output_type": "stream",
          "text": [
            "/usr/local/lib/python3.6/dist-packages/ipykernel_launcher.py:1: SettingWithCopyWarning: \n",
            "A value is trying to be set on a copy of a slice from a DataFrame.\n",
            "Try using .loc[row_indexer,col_indexer] = value instead\n",
            "\n",
            "See the caveats in the documentation: http://pandas.pydata.org/pandas-docs/stable/indexing.html#indexing-view-versus-copy\n",
            "  \"\"\"Entry point for launching an IPython kernel.\n"
          ],
          "name": "stderr"
        },
        {
          "output_type": "execute_result",
          "data": {
            "text/plain": [
              "<matplotlib.axes._subplots.AxesSubplot at 0x7f8023b9a668>"
            ]
          },
          "metadata": {
            "tags": []
          },
          "execution_count": 22
        },
        {
          "output_type": "display_data",
          "data": {
            "image/png": "[encoded data removed]",
            "text/plain": [
              "<matplotlib.figure.Figure at 0x7f8023b89978>"
            ]
          },
          "metadata": {
            "tags": []
          }
        }
      ]
    },
    {
      "cell_type": "code",
      "metadata": {
        "id": "3OLhbQNIpLRL",
        "colab_type": "code",
        "outputId": "ce85b67e-61f6-4293-ae3e-04fd63c776a5",
        "colab": {
          "base_uri": "https://localhost:8080/",
          "height": 395
        }
      },
      "source": [
        "print(t1['verse_IDF1'].corr(t1['verse_IDF2']))\n",
        "t1.plot.scatter(x='verse_IDF1', y='verse_IDF2')"
      ],
      "execution_count": 0,
      "outputs": [
        {
          "output_type": "stream",
          "text": [
            "0.9564411294633034\n"
          ],
          "name": "stdout"
        },
        {
          "output_type": "execute_result",
          "data": {
            "text/plain": [
              "<matplotlib.axes._subplots.AxesSubplot at 0x7f8023bb3320>"
            ]
          },
          "metadata": {
            "tags": []
          },
          "execution_count": 23
        },
        {
          "output_type": "display_data",
          "data": {
            "image/png": "[encoded data removed]",
            "text/plain": [
              "<matplotlib.figure.Figure at 0x7f8023b7b2e8>"
            ]
          },
          "metadata": {
            "tags": []
          }
        }
      ]
    },
    {
      "cell_type": "code",
      "metadata": {
        "id": "0tHswzrDpVVW",
        "colab_type": "code",
        "outputId": "9ba2ab79-7f83-42f6-dd3a-6f20ffcfd06f",
        "colab": {
          "base_uri": "https://localhost:8080/",
          "height": 395
        }
      },
      "source": [
        "print(t1['verse_IDF1'].corr(t1['verse_IDF3']))\n",
        "t1.plot.scatter(x='verse_IDF1', y='verse_IDF3')"
      ],
      "execution_count": 0,
      "outputs": [
        {
          "output_type": "stream",
          "text": [
            "0.5658203925130009\n"
          ],
          "name": "stdout"
        },
        {
          "output_type": "execute_result",
          "data": {
            "text/plain": [
              "<matplotlib.axes._subplots.AxesSubplot at 0x7f8023c13240>"
            ]
          },
          "metadata": {
            "tags": []
          },
          "execution_count": 24
        },
        {
          "output_type": "display_data",
          "data": {
            "image/png": "[encoded data removed]",
            "text/plain": [
              "<matplotlib.figure.Figure at 0x7f8023c02cc0>"
            ]
          },
          "metadata": {
            "tags": []
          }
        }
      ]
    },
    {
      "cell_type": "code",
      "metadata": {
        "id": "XSQdJJPypv-R",
        "colab_type": "code",
        "outputId": "a2ba12c0-d1fc-4dbd-8ce5-1ea627d4e3db",
        "colab": {
          "base_uri": "https://localhost:8080/",
          "height": 497
        }
      },
      "source": [
        "# IDF4 attempt: use top 10 of the words\n",
        "t1['verse_IDF4'] = t1['lemma'].apply(lambda x:sent_mean_idf(x, mean_top_pct=-10))\n",
        "print(t1['verse_IDF1'].corr(t1['verse_IDF4']))\n",
        "t1.plot.scatter(x='verse_IDF1', y='verse_IDF4')\n"
      ],
      "execution_count": 0,
      "outputs": [
        {
          "output_type": "stream",
          "text": [
            "0.4654173160227051\n"
          ],
          "name": "stdout"
        },
        {
          "output_type": "stream",
          "text": [
            "/usr/local/lib/python3.6/dist-packages/ipykernel_launcher.py:1: SettingWithCopyWarning: \n",
            "A value is trying to be set on a copy of a slice from a DataFrame.\n",
            "Try using .loc[row_indexer,col_indexer] = value instead\n",
            "\n",
            "See the caveats in the documentation: http://pandas.pydata.org/pandas-docs/stable/indexing.html#indexing-view-versus-copy\n",
            "  \"\"\"Entry point for launching an IPython kernel.\n"
          ],
          "name": "stderr"
        },
        {
          "output_type": "execute_result",
          "data": {
            "text/plain": [
              "<matplotlib.axes._subplots.AxesSubplot at 0x7f8023c34cc0>"
            ]
          },
          "metadata": {
            "tags": []
          },
          "execution_count": 25
        },
        {
          "output_type": "display_data",
          "data": {
            "image/png": "[encoded data removed]",
            "text/plain": [
              "<matplotlib.figure.Figure at 0x7f8023bec9e8>"
            ]
          },
          "metadata": {
            "tags": []
          }
        }
      ]
    },
    {
      "cell_type": "code",
      "metadata": {
        "id": "S-B0VldKqMBB",
        "colab_type": "code",
        "outputId": "0255a127-4ae3-4b56-955c-c5703a0aabd5",
        "colab": {
          "base_uri": "https://localhost:8080/",
          "height": 204
        }
      },
      "source": [
        "t1.corr()\n",
        "# IDF1 = mean(all)\n",
        "# IDF2 = mean(top60%)\n",
        "# IDF3 = mean(top15)\n",
        "# IDF4 = mean(top10)\n"
      ],
      "execution_count": 0,
      "outputs": [
        {
          "output_type": "execute_result",
          "data": {
            "text/html": [
              "<div>\n",
              "<style scoped>\n",
              "    .dataframe tbody tr th:only-of-type {\n",
              "        vertical-align: middle;\n",
              "    }\n",
              "\n",
              "    .dataframe tbody tr th {\n",
              "        vertical-align: top;\n",
              "    }\n",
              "\n",
              "    .dataframe thead th {\n",
              "        text-align: right;\n",
              "    }\n",
              "</style>\n",
              "<table border=\"1\" class=\"dataframe\">\n",
              "  <thead>\n",
              "    <tr style=\"text-align: right;\">\n",
              "      <th></th>\n",
              "      <th>len</th>\n",
              "      <th>verse_IDF1</th>\n",
              "      <th>verse_IDF2</th>\n",
              "      <th>verse_IDF3</th>\n",
              "      <th>verse_IDF4</th>\n",
              "    </tr>\n",
              "  </thead>\n",
              "  <tbody>\n",
              "    <tr>\n",
              "      <th>len</th>\n",
              "      <td>1.000000</td>\n",
              "      <td>-0.159507</td>\n",
              "      <td>-0.049999</td>\n",
              "      <td>0.670500</td>\n",
              "      <td>0.727134</td>\n",
              "    </tr>\n",
              "    <tr>\n",
              "      <th>verse_IDF1</th>\n",
              "      <td>-0.159507</td>\n",
              "      <td>1.000000</td>\n",
              "      <td>0.956441</td>\n",
              "      <td>0.565820</td>\n",
              "      <td>0.465417</td>\n",
              "    </tr>\n",
              "    <tr>\n",
              "      <th>verse_IDF2</th>\n",
              "      <td>-0.049999</td>\n",
              "      <td>0.956441</td>\n",
              "      <td>1.000000</td>\n",
              "      <td>0.642881</td>\n",
              "      <td>0.584292</td>\n",
              "    </tr>\n",
              "    <tr>\n",
              "      <th>verse_IDF3</th>\n",
              "      <td>0.670500</td>\n",
              "      <td>0.565820</td>\n",
              "      <td>0.642881</td>\n",
              "      <td>1.000000</td>\n",
              "      <td>0.933712</td>\n",
              "    </tr>\n",
              "    <tr>\n",
              "      <th>verse_IDF4</th>\n",
              "      <td>0.727134</td>\n",
              "      <td>0.465417</td>\n",
              "      <td>0.584292</td>\n",
              "      <td>0.933712</td>\n",
              "      <td>1.000000</td>\n",
              "    </tr>\n",
              "  </tbody>\n",
              "</table>\n",
              "</div>"
            ],
            "text/plain": [
              "                 len  verse_IDF1  verse_IDF2  verse_IDF3  verse_IDF4\n",
              "len         1.000000   -0.159507   -0.049999    0.670500    0.727134\n",
              "verse_IDF1 -0.159507    1.000000    0.956441    0.565820    0.465417\n",
              "verse_IDF2 -0.049999    0.956441    1.000000    0.642881    0.584292\n",
              "verse_IDF3  0.670500    0.565820    0.642881    1.000000    0.933712\n",
              "verse_IDF4  0.727134    0.465417    0.584292    0.933712    1.000000"
            ]
          },
          "metadata": {
            "tags": []
          },
          "execution_count": 26
        }
      ]
    },
    {
      "cell_type": "markdown",
      "metadata": {
        "id": "z9GBUCrHFgJV",
        "colab_type": "text"
      },
      "source": [
        "#### Observations on variation of topN\n",
        "* average of all values is anticorrelated with length: the longer the sentence, the more likely of lower value words to dominate. i.e. every additional word is likely to be of lower IDF value.\n",
        "* hence having just the top 60% shows less anticorrelation.\n",
        "* top15 and top10 will correlate with length, as having more words will give more chance for the topK to achieve higher value.\n",
        "* Mean(All) correlates with top60%, top15 and top10 in decreasing order, since fewer words are being correlated.\n",
        "* top60% and top15 are the \"border\" candidates of the two cluster of behaviors (the topPercent vs topK)\n",
        "* qualitatively none of these variations show great difference from our observation and conclusion"
      ]
    },
    {
      "cell_type": "markdown",
      "metadata": {
        "id": "bWL_025kvK1B",
        "colab_type": "text"
      },
      "source": [
        "### using Document Term Frequency\n",
        "Inverse Document Frequency (IDF) cleverly summarizes the importance of words by considering how many documents the word appear in.\n",
        "We have the entire Document Term Frequency (TF) matrix (DTM), detailing how many times a word appear in each document.\n",
        "Effectively IDF disregards or treats the TF in each doc as a constant (1 or 0). (Of course, the vector space model will eventually use TFxIDF which will use the TF information.)\n",
        "\n",
        "Surely we can make use of the TF and extract more meaning. For example:\n",
        "* From DTM we can compute word self-correlation within a document or nearby documents. \n",
        "* Tokens with large IDF may be rare word or random typos. Error words would appear infrequently in few documents, and appear rarely in each. Contentful words would have higher occurrence within a document.\n",
        "* T-stat of the collection of TFs is shown to be useful (quote paper)\n",
        "\n",
        "\n"
      ]
    },
    {
      "cell_type": "code",
      "metadata": {
        "id": "jjISsAq_dDIB",
        "colab_type": "code",
        "outputId": "69769fb4-8d82-41c5-9d04-7f2c6a3ad482",
        "colab": {
          "base_uri": "https://localhost:8080/",
          "height": 68
        }
      },
      "source": [
        "# we will use book_DTM as small matrix for exploration\n",
        "print(book_result['DTM'].shape)\n",
        "# (66, 10067)\n",
        "print(type(book_result['DTM']))\n",
        "#numpy.matrixlib.defmatrix.matrix\n",
        "\n",
        "tmplist = book_result['DTM'][:,17].flatten()\n",
        "#tmplist[tmplist!=0].mean()\n",
        "tmplist[tmplist!=0].std()"
      ],
      "execution_count": 0,
      "outputs": [
        {
          "output_type": "stream",
          "text": [
            "(66, 10067)\n",
            "<class 'numpy.matrixlib.defmatrix.matrix'>\n"
          ],
          "name": "stdout"
        },
        {
          "output_type": "execute_result",
          "data": {
            "text/plain": [
              "1.7399263633843818"
            ]
          },
          "metadata": {
            "tags": []
          },
          "execution_count": 18
        }
      ]
    },
    {
      "cell_type": "code",
      "metadata": {
        "id": "Vo2b2BKyd2Ss",
        "colab_type": "code",
        "colab": {}
      },
      "source": [
        "def compute_TF_tstat_for_word(w, tf_model):\n",
        "    voc = tf_model['words']\n",
        "    result = {\n",
        "        'N' : 0,\n",
        "        'max' : 0,\n",
        "        'min' : 0,\n",
        "        'mean' : 0,\n",
        "        'std' : None,\n",
        "        'tstat' : None\n",
        "    }\n",
        "    if w not in voc:\n",
        "        return result\n",
        "    wid = voc.index(w)\n",
        "    # document term-freq matrix\n",
        "    dtm = tf_model['DTM_the']\n",
        "    tf_list_with_zeros = dtm[:, wid].flatten()\n",
        "    tf_list = tf_list_with_zeros[tf_list_with_zeros!=0]\n",
        "    result['N'] = tf_list.size\n",
        "    result['mean'] = tf_list.mean()\n",
        "    result['max'] = tf_list.max()\n",
        "    result['min'] = tf_list.min()\n",
        "    \n",
        "    if tf_list.size < 2:\n",
        "        # not enough for std\n",
        "        return result\n",
        "    result['std'] = tf_list.std()\n",
        "    if result['std'] > 0:\n",
        "        result['tstat']  = result['mean']/result['std']\n",
        "    \n",
        "    return result\n",
        "    "
      ],
      "execution_count": 0,
      "outputs": []
    },
    {
      "cell_type": "code",
      "metadata": {
        "id": "2IA7_o2KkftO",
        "colab_type": "code",
        "colab": {}
      },
      "source": [
        "pd.set_option('precision', 2)\n",
        "\n",
        "def dtm_stats_df(query, model_result):\n",
        "    df_model = None\n",
        "    for w in query:\n",
        "        # hacky way to convert dict to a dataframe\n",
        "        df = pd.DataFrame(pd.Series(compute_TF_tstat_for_word(w, model_result)), columns=[w]).transpose()\n",
        "        if df_model is None:\n",
        "            df_model = df\n",
        "        else:\n",
        "            df_model = df_model.append(df)\n",
        "    return df_model\n",
        "\n",
        "test_sent = 'the righteous shall live by faith god jehovah elohim jesus abraham david ruth'\n",
        "test_words = test_sent.split(' ')"
      ],
      "execution_count": 0,
      "outputs": []
    },
    {
      "cell_type": "code",
      "metadata": {
        "id": "Q8KgEXrGxxIL",
        "colab_type": "code",
        "outputId": "6d2a2ca5-bffa-4e01-bdb6-b3798761f96c",
        "colab": {
          "base_uri": "https://localhost:8080/",
          "height": 782
        }
      },
      "source": [
        "#Add the corresponding IDF as a column to the Stat DF\n",
        "\n",
        "for model_res in [book_result, chap_result, verse_result]:\n",
        "    stat_DF = dtm_stats_df(test_words, model_res)\n",
        "    #add IDF as a column: first turn IDF result into a DF object\n",
        "    (idf,words)=get_sentence_idfs(model_res, test_sent, preproc_needed=False)\n",
        "    idf_DF = pd.DataFrame.from_dict({'idf':idf,'index':words}).set_index('index')\n",
        "    result = pd.concat([stat_DF, idf_DF], axis=1)\n",
        "    print(result)\n",
        "    print('-'*80)"
      ],
      "execution_count": 0,
      "outputs": [
        {
          "output_type": "stream",
          "text": [
            "              N    max   mean    min    std  tstat   idf\n",
            "abraham    27.0   5.45   0.78   0.03   1.28   0.61  1.87\n",
            "by         64.0  20.54   5.90   0.78   4.44   1.33  1.03\n",
            "david      28.0  17.56   2.20   0.09   4.33   0.51  1.84\n",
            "elohim      0.0   0.00   0.00   0.00    NaN    NaN   NaN\n",
            "faith      26.0  17.43   5.18   0.05   4.79   1.08  1.91\n",
            "god        64.0  45.88  11.29   0.38   9.74   1.16  1.03\n",
            "jehovah     5.0   0.07   0.05   0.03   0.01   4.05  3.41\n",
            "jesus      26.0  43.75  11.33   1.33   8.80   1.29  1.91\n",
            "live       50.0   5.41   1.11   0.11   1.08   1.03  1.27\n",
            "righteous  38.0   4.64   0.79   0.03   1.06   0.75  1.54\n",
            "ruth        2.0   7.89   3.98   0.07   3.91   1.02  4.11\n",
            "shall      65.0  44.55  14.38   1.08  10.93   1.32  1.02\n",
            "the        66.0  99.97  99.32  93.75   1.22  81.57  1.00\n",
            "--------------------------------------------------------------------------------\n",
            "                N     max   mean    min    std  tstat   idf\n",
            "abraham      76.0   53.33   7.53   0.93  11.42   0.66  3.74\n",
            "by          841.0   81.48   6.47   0.49   6.79   0.95  1.35\n",
            "david       189.0   75.00   9.96   0.49  13.80   0.72  2.83\n",
            "elohim        0.0    0.00   0.00   0.00    NaN    NaN   NaN\n",
            "faith       105.0   62.50   8.16   1.02  10.32   0.79  3.42\n",
            "god         934.0  300.00  13.34   0.46  18.92   0.71  1.24\n",
            "jehovah       7.0   11.11   3.58   0.83   3.30   1.09  6.00\n",
            "jesus       207.0   60.00  11.68   0.87  10.21   1.14  2.74\n",
            "live        217.0   94.44   4.43   0.52   7.40   0.60  2.70\n",
            "righteous   139.0   18.18   4.88   0.56   3.72   1.31  3.14\n",
            "ruth          5.0   10.81   6.91   3.57   2.72   2.54  6.29\n",
            "shall      1005.0  153.12  20.58   0.46  20.14   1.02  1.17\n",
            "the        1188.0   99.57  96.91  50.00   3.45  28.08  1.00\n",
            "--------------------------------------------------------------------------------\n",
            "                 N     max   mean    min    std  tstat   idf\n",
            "abraham      230.0  200.00  55.45  10.00  37.68   1.47  5.90\n",
            "by          2233.0  400.00  45.27   6.25  35.44   1.28  3.63\n",
            "david        895.0  300.00  47.25   6.25  35.70   1.32  4.55\n",
            "elohim         0.0    0.00   0.00   0.00    NaN    NaN   NaN\n",
            "faith        231.0  300.00  56.67  12.50  38.76   1.46  5.90\n",
            "god         4063.0  300.00  48.95   7.14  35.61   1.37  3.04\n",
            "jehovah        7.0   50.00  39.29  25.00   9.67   4.06  9.27\n",
            "jesus        943.0  200.00  58.37  12.50  32.87   1.78  4.49\n",
            "live         365.0  200.00  52.91  10.00  33.94   1.56  5.44\n",
            "righteous    225.0  200.00  44.11   8.33  31.99   1.38  5.92\n",
            "ruth          13.0  100.00  61.54  12.50  37.31   1.65  8.71\n",
            "shall       6061.0  500.00  68.82   7.14  57.05   1.21  2.64\n",
            "the        24091.0   94.74  66.88  50.00  13.06   5.12  1.26\n",
            "--------------------------------------------------------------------------------\n"
          ],
          "name": "stdout"
        }
      ]
    },
    {
      "cell_type": "markdown",
      "metadata": {
        "id": "2VE6gd6pvMlM",
        "colab_type": "text"
      },
      "source": [
        "#### Interpretation\n",
        "* On whatever level, most words' minimum nonzero occurrence is 1. (Only stopwords like \"the\" will have larger minimum on the book level)\n",
        "* On verse level, the mean TF of most words is near 1. The max will be limited by sentence length. So the TF occurrence are clustered around 1, and thus the key driver for STD and TSTAT is the N (representing the number of nonzero TF documents) which enters standard error as a 1/sqrt(N). We should therefore expect tstat to be correlated with IDF which varies as log(1/N).\n",
        "* The statistics in book and chapter level indicate that the variation of TF is really driven by the length of the books. So if we want meaningful t-stats, we should use percentage Term Frequency instead.\n"
      ]
    },
    {
      "cell_type": "markdown",
      "metadata": {
        "id": "B6lJKzJN-bKf",
        "colab_type": "text"
      },
      "source": [
        "### Application of IDF and TSTAT\n",
        "* use these as dimensions/features for word clustering\n",
        "* let us see what clusters we will get\n"
      ]
    },
    {
      "cell_type": "markdown",
      "metadata": {
        "id": "MnqKSJofRKJK",
        "colab_type": "text"
      },
      "source": [
        "## Kishore's word gain"
      ]
    },
    {
      "cell_type": "markdown",
      "metadata": {
        "id": "0BBCdCieROdX",
        "colab_type": "text"
      },
      "source": [
        "## Latest research result on word meaning\n"
      ]
    },
    {
      "cell_type": "markdown",
      "metadata": {
        "id": "gquqTny_SQVJ",
        "colab_type": "text"
      },
      "source": [
        "## Apply NLU to Strong numbers"
      ]
    },
    {
      "cell_type": "code",
      "metadata": {
        "id": "kuKqoyjE6zQU",
        "colab_type": "code",
        "outputId": "4f3be075-4344-457a-e341-0df74a320df1",
        "colab": {
          "base_uri": "https://localhost:8080/",
          "height": 122
        }
      },
      "source": [
        "# need to extract osisID into Chapter number, for 2 types of patterns\n",
        "verses[15506:15511]"
      ],
      "execution_count": 0,
      "outputs": [
        {
          "output_type": "execute_result",
          "data": {
            "text/plain": [
              "['<verse osisID=\"Ps.99.7\" sID=\"Ps.99.7\"/><w morph=\"strongMorph:TH8762\" lemma=\"strong:H01696\">He spake</w> <w lemma=\"strong:H06051\">unto them in the cloudy</w> <w lemma=\"strong:H05982\">pillar</w>: <w morph=\"strongMorph:TH8804\" lemma=\"strong:H08104\">they kept</w> <w lemma=\"strong:H05713\">his testimonies</w>, <w lemma=\"strong:H02706\">and the ordinance</w> <transChange type=\"added\">that</transChange> <w morph=\"strongMorph:TH8804\" lemma=\"strong:H05414\">he gave</w> them.<verse eID=\"Ps.99.7\"/>\\n',\n",
              " '<verse osisID=\"Ps.99.8\" sID=\"Ps.99.8\"/><w morph=\"strongMorph:TH8804\" lemma=\"strong:H06030\">Thou answeredst</w> <w lemma=\"strong:H03068\">them, O <seg><divineName>Lord</divineName></seg></w> <w lemma=\"strong:H0430\">our God</w>: <w lemma=\"strong:H0410\">thou wast a God</w> <w morph=\"strongMorph:TH8802\" lemma=\"strong:H05375\">that forgavest</w> <w morph=\"strongMorph:TH8802\" lemma=\"strong:H05358\">them, though thou tookest vengeance</w> <w lemma=\"strong:H05949\">of their inventions</w>.<verse eID=\"Ps.99.8\"/>\\n',\n",
              " '<verse osisID=\"Ps.99.9\" sID=\"Ps.99.9\"/><w morph=\"strongMorph:TH8786\" lemma=\"strong:H07311\">Exalt</w> <w lemma=\"strong:H03068\">the <seg><divineName>Lord</divineName></seg></w> <w lemma=\"strong:H0430\">our God</w>, <w morph=\"strongMorph:TH8690\" lemma=\"strong:H07812\">and worship</w> <w lemma=\"strong:H06944\">at his holy</w> <w lemma=\"strong:H02022\">hill</w>; <w lemma=\"strong:H03068\">for the <seg><divineName>Lord</divineName></seg></w> <w lemma=\"strong:H0430\">our God</w> <transChange type=\"added\">is</transChange> <w lemma=\"strong:H06918\">holy</w>.<verse eID=\"Ps.99.9\"/>\\n',\n",
              " '<title type=\"psalm\" canonical=\"true\"><w lemma=\"strong:H04210\">A Psalm</w> <w lemma=\"strong:H08426\">of praise</w>.</title><verse osisID=\"Ps.100.1\" sID=\"Ps.100.1\"/><w morph=\"strongMorph:TH8685\" lemma=\"strong:H07321\">Make a joyful noise</w> <w lemma=\"strong:H03068\">unto the <seg><divineName>Lord</divineName></seg></w>, <w lemma=\"strong:H0776\">all ye lands</w>.<note type=\"study\">praise: or, thanksgiving</note><note type=\"study\">all…: Heb. all the earth</note><verse eID=\"Ps.100.1\"/>\\n',\n",
              " '<verse osisID=\"Ps.100.2\" sID=\"Ps.100.2\"/><w morph=\"strongMorph:TH8798\" lemma=\"strong:H05647\">Serve</w> <w lemma=\"strong:H03068\">the <seg><divineName>Lord</divineName></seg></w> <w lemma=\"strong:H08057\">with gladness</w>: <w morph=\"strongMorph:TH8798\" lemma=\"strong:H0935\">come</w> <w lemma=\"strong:H06440\">before his presence</w> <w lemma=\"strong:H07445\">with singing</w>.<verse eID=\"Ps.100.2\"/>\\n']"
            ]
          },
          "metadata": {
            "tags": []
          },
          "execution_count": 11
        }
      ]
    },
    {
      "cell_type": "markdown",
      "metadata": {
        "id": "LO_CE7p2SAlY",
        "colab_type": "text"
      },
      "source": [
        "# PART 3. Application to Memory Verse scoring\n",
        "\n",
        "see separate [notebook](https://colab.research.google.com/drive/1ImuZIOIIxcXmzv8RPoEpJ8FHqImN6bvX)."
      ]
    }
  ]
}