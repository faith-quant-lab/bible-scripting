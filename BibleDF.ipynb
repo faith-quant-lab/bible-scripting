{
  "nbformat": 4,
  "nbformat_minor": 0,
  "metadata": {
    "colab": {
      "name": "BibleDF.ipynb",
      "version": "0.3.2",
      "provenance": [],
      "collapsed_sections": [],
      "include_colab_link": true
    },
    "kernelspec": {
      "name": "python3",
      "display_name": "Python 3"
    }
  },
  "cells": [
    {
      "cell_type": "markdown",
      "metadata": {
        "id": "view-in-github",
        "colab_type": "text"
      },
      "source": [
        "<a href=\"https://colab.research.google.com/github/faith-quant-lab/bible-scripting/blob/master/BibleDF.ipynb\" target=\"_parent\"><img src=\"https://colab.research.google.com/assets/colab-badge.svg\" alt=\"Open In Colab\"/></a>"
      ]
    },
    {
      "cell_type": "markdown",
      "metadata": {
        "id": "lUtpwxi21U7j",
        "colab_type": "text"
      },
      "source": [
        "# FaithQuant Lab: Bible dataframe\n",
        "\n",
        "Simple tool to download the Bible text (from many versions in SWORD project) into a DataFrame.\n",
        "\n",
        "Credit: This module makes much use of https://github.com/wasdin/SWORD-to-JSON\n",
        "\n",
        "## your changes to this code:\n",
        "To tailor for your own use, the only change you need to make in this document is the setting of the bible version you wish to use:\n",
        "\n",
        "> VERSION_CODE = 'ESV2001'\n",
        "\n",
        "in the second section named **\"download Bible from SWORD project\"**\n",
        "\n"
      ]
    },
    {
      "cell_type": "markdown",
      "metadata": {
        "id": "C7LOioxdInYs",
        "colab_type": "text"
      },
      "source": [
        "## prepare SWORD-2-JSON"
      ]
    },
    {
      "cell_type": "code",
      "metadata": {
        "id": "-1mlZ3U_17wn",
        "colab_type": "code",
        "outputId": "1ef41264-8d0a-4705-e4ac-ba0867717ea7",
        "colab": {
          "base_uri": "https://localhost:8080/",
          "height": 153
        }
      },
      "source": [
        "! pip install pysword"
      ],
      "execution_count": 0,
      "outputs": [
        {
          "output_type": "stream",
          "text": [
            "Collecting pysword\n",
            "  Downloading https://files.pythonhosted.org/packages/c0/aa/20d32448dd6a0018e5ed77c8115004fddc08e44b66e9629257639d382150/pysword-0.2.6.tar.gz\n",
            "Building wheels for collected packages: pysword\n",
            "  Building wheel for pysword (setup.py) ... \u001b[?25l\u001b[?25hdone\n",
            "  Stored in directory: /root/.cache/pip/wheels/d5/a0/05/662298ce54f2723110779c160d4297419060fe97d623cb87e5\n",
            "Successfully built pysword\n",
            "Installing collected packages: pysword\n",
            "Successfully installed pysword-0.2.6\n"
          ],
          "name": "stdout"
        }
      ]
    },
    {
      "cell_type": "code",
      "metadata": {
        "id": "R--33sUm1LCf",
        "colab_type": "code",
        "outputId": "9a9d833a-8ace-4d1a-fbac-1c1998475f59",
        "colab": {
          "base_uri": "https://localhost:8080/",
          "height": 85
        }
      },
      "source": [
        "! git clone https://github.com/wasdin/SWORD-to-JSON.git"
      ],
      "execution_count": 0,
      "outputs": [
        {
          "output_type": "stream",
          "text": [
            "Cloning into 'SWORD-to-JSON'...\n",
            "remote: Enumerating objects: 20, done.\u001b[K\n",
            "remote: Total 20 (delta 0), reused 0 (delta 0), pack-reused 20\u001b[K\n",
            "Unpacking objects: 100% (20/20), done.\n"
          ],
          "name": "stdout"
        }
      ]
    },
    {
      "cell_type": "code",
      "metadata": {
        "id": "VAFo-8clF-KG",
        "colab_type": "code",
        "colab": {}
      },
      "source": [
        "# Pretty Print version: Add a \"indent=4\" in json.dump \n",
        "\n",
        "! sed -e \"s/outfile)/outfile, indent=4)/\" SWORD-to-JSON/sword_to_json.py > SWORD-to-JSON/sword_to_json_pp.py"
      ],
      "execution_count": 0,
      "outputs": []
    },
    {
      "cell_type": "markdown",
      "metadata": {
        "id": "--6f1fZgItxC",
        "colab_type": "text"
      },
      "source": [
        "## download Bible from SWORD project\n",
        "\n",
        "http://crosswire.org/sword/modules/ModDisp.jsp?modType=Bibles\n",
        "\n",
        "Available among the more famous English versions are: \n",
        "\n",
        "\n",
        "*   ESV2001\n",
        "*   KJV\n",
        "*   ASV\n",
        "*   ISV\n",
        "\n",
        "\n"
      ]
    },
    {
      "cell_type": "code",
      "metadata": {
        "id": "0PQLosL8JofN",
        "colab_type": "code",
        "colab": {}
      },
      "source": [
        "# VERSION_CODE is the \"Name\" column in the SWORD index\n",
        "VERSION_CODE = 'ESV2001'\n",
        "\n",
        "#VERSION_CODE = 'ChiUn'  # Chinese Union Version in Unicode\n",
        "\n",
        "zipfile = VERSION_CODE+'.zip'\n",
        "url = \"http://crosswire.org/ftpmirror/pub/sword/packages/rawzip/\"+zipfile\n",
        "dest_file = '/content/'+zipfile\n",
        "\n"
      ],
      "execution_count": 0,
      "outputs": []
    },
    {
      "cell_type": "code",
      "metadata": {
        "id": "RPBoBmF_I-IT",
        "colab_type": "code",
        "colab": {}
      },
      "source": [
        "import os\n",
        "exists = os.path.isfile(dest_file)\n",
        "if not exists:\n",
        "    import urllib.request\n",
        "    urllib.request.urlretrieve(url, dest_file)\n",
        "else:\n",
        "    print(dest_file + \" already exists\")"
      ],
      "execution_count": 0,
      "outputs": []
    },
    {
      "cell_type": "markdown",
      "metadata": {
        "id": "FJ6yL3f4KPm_",
        "colab_type": "text"
      },
      "source": [
        "## Convert to JSON"
      ]
    },
    {
      "cell_type": "code",
      "metadata": {
        "id": "muzpIQwZKTtJ",
        "colab_type": "code",
        "colab": {}
      },
      "source": [
        "! python SWORD-to-JSON/sword_to_json_pp.py --source_file '$dest_file' --bible_version '$VERSION_CODE' --output_file '$VERSION_CODE'.json"
      ],
      "execution_count": 0,
      "outputs": []
    },
    {
      "cell_type": "code",
      "metadata": {
        "id": "4rLZ14jCUnYS",
        "colab_type": "code",
        "outputId": "d9f0e520-9161-434b-a041-80d4d583224b",
        "colab": {
          "base_uri": "https://localhost:8080/",
          "height": 306
        }
      },
      "source": [
        "! head -17  '$VERSION_CODE'.json"
      ],
      "execution_count": 0,
      "outputs": [
        {
          "output_type": "stream",
          "text": [
            "{\n",
            "    \"books\": [\n",
            "        {\n",
            "            \"name\": \"Genesis\",\n",
            "            \"chapters\": [\n",
            "                {\n",
            "                    \"chapter\": 1,\n",
            "                    \"name\": \"Genesis 1\",\n",
            "                    \"verses\": [\n",
            "                        {\n",
            "                            \"verse\": 1,\n",
            "                            \"chapter\": 1,\n",
            "                            \"name\": \"Genesis 1:1\",\n",
            "                            \"text\": \"\\u8d77\\u521d\\uff0c\\u3000\\u795e\\u5275\\u9020\\u5929\\u5730\\u3002\"\n",
            "                        },\n",
            "                        {\n",
            "                            \"verse\": 2,\n"
          ],
          "name": "stdout"
        }
      ]
    },
    {
      "cell_type": "markdown",
      "metadata": {
        "id": "n6eNEMrWY-Of",
        "colab_type": "text"
      },
      "source": [
        "## Create module for SWORD-2-DF\n"
      ]
    },
    {
      "cell_type": "code",
      "metadata": {
        "id": "KpKhWglRXQs5",
        "colab_type": "code",
        "outputId": "62eb5ead-d900-47d0-ff77-586369d309c3",
        "colab": {
          "base_uri": "https://localhost:8080/",
          "height": 235
        }
      },
      "source": [
        "from pysword.modules import SwordModules\n",
        "import argparse, json, sys\n",
        "import pandas as pd\n",
        "\n",
        "if sys.version_info > (3, 0):\n",
        "    from past.builtins import xrange\n",
        "\n",
        "\n",
        "def generate_DF(source_file, bible_version):\n",
        "    modules = SwordModules(source_file)\n",
        "    found_modules = modules.parse_modules()\n",
        "    bible = modules.get_bible_from_module(bible_version)\n",
        "\n",
        "    books = bible.get_structure()._books['ot'] + bible.get_structure()._books['nt']\n",
        "\n",
        "    bib = None\n",
        "    verses = []\n",
        "            \n",
        "    book_id = 0\n",
        "    for book in books:\n",
        "        book_id += 1\n",
        "        for chapter in xrange(1, book.num_chapters+1):\n",
        "            for verse in xrange(1, len(book.get_indicies(chapter))+1 ):\n",
        "                verses.append({\n",
        "                    'index' : str(book_id) + \":\" + str(chapter) + \":\" + str(verse),\n",
        "                    'id_book' : book.name,\n",
        "                    'id_bookCt' : book_id,\n",
        "                    'id_chapter': chapter,\n",
        "                    'id_verse': verse,\n",
        "                    'name_verse': book.name + \" \" + str(chapter) + \":\" + str(verse),\n",
        "                    'text': bible.get(books=[book.name], chapters=[chapter], verses=[verse])\n",
        "                    })\n",
        "\n",
        "    bib = pd.DataFrame(verses).set_index('index')\n",
        "    return bib\n",
        "\n",
        "\n",
        "# test code\n",
        "bible_DF = generate_DF(dest_file, VERSION_CODE)\n",
        "bible_DF.head()"
      ],
      "execution_count": 0,
      "outputs": [
        {
          "output_type": "execute_result",
          "data": {
            "text/html": [
              "<div>\n",
              "<style scoped>\n",
              "    .dataframe tbody tr th:only-of-type {\n",
              "        vertical-align: middle;\n",
              "    }\n",
              "\n",
              "    .dataframe tbody tr th {\n",
              "        vertical-align: top;\n",
              "    }\n",
              "\n",
              "    .dataframe thead th {\n",
              "        text-align: right;\n",
              "    }\n",
              "</style>\n",
              "<table border=\"1\" class=\"dataframe\">\n",
              "  <thead>\n",
              "    <tr style=\"text-align: right;\">\n",
              "      <th></th>\n",
              "      <th>id_book</th>\n",
              "      <th>id_bookCt</th>\n",
              "      <th>id_chapter</th>\n",
              "      <th>id_verse</th>\n",
              "      <th>name_verse</th>\n",
              "      <th>text</th>\n",
              "    </tr>\n",
              "    <tr>\n",
              "      <th>index</th>\n",
              "      <th></th>\n",
              "      <th></th>\n",
              "      <th></th>\n",
              "      <th></th>\n",
              "      <th></th>\n",
              "      <th></th>\n",
              "    </tr>\n",
              "  </thead>\n",
              "  <tbody>\n",
              "    <tr>\n",
              "      <th>1:1:1</th>\n",
              "      <td>Genesis</td>\n",
              "      <td>1</td>\n",
              "      <td>1</td>\n",
              "      <td>1</td>\n",
              "      <td>Genesis 1:1</td>\n",
              "      <td>In the beginning, God created the heavens and ...</td>\n",
              "    </tr>\n",
              "    <tr>\n",
              "      <th>1:1:2</th>\n",
              "      <td>Genesis</td>\n",
              "      <td>1</td>\n",
              "      <td>1</td>\n",
              "      <td>2</td>\n",
              "      <td>Genesis 1:2</td>\n",
              "      <td>The earth was without form and void, and darkn...</td>\n",
              "    </tr>\n",
              "    <tr>\n",
              "      <th>1:1:3</th>\n",
              "      <td>Genesis</td>\n",
              "      <td>1</td>\n",
              "      <td>1</td>\n",
              "      <td>3</td>\n",
              "      <td>Genesis 1:3</td>\n",
              "      <td>And God said, Let there be light, and there wa...</td>\n",
              "    </tr>\n",
              "    <tr>\n",
              "      <th>1:1:4</th>\n",
              "      <td>Genesis</td>\n",
              "      <td>1</td>\n",
              "      <td>1</td>\n",
              "      <td>4</td>\n",
              "      <td>Genesis 1:4</td>\n",
              "      <td>And God saw that the light was good. And God s...</td>\n",
              "    </tr>\n",
              "    <tr>\n",
              "      <th>1:1:5</th>\n",
              "      <td>Genesis</td>\n",
              "      <td>1</td>\n",
              "      <td>1</td>\n",
              "      <td>5</td>\n",
              "      <td>Genesis 1:5</td>\n",
              "      <td>God called the light Day, and the darkness he ...</td>\n",
              "    </tr>\n",
              "  </tbody>\n",
              "</table>\n",
              "</div>"
            ],
            "text/plain": [
              "       id_book  ...                                               text\n",
              "index           ...                                                   \n",
              "1:1:1  Genesis  ...  In the beginning, God created the heavens and ...\n",
              "1:1:2  Genesis  ...  The earth was without form and void, and darkn...\n",
              "1:1:3  Genesis  ...  And God said, Let there be light, and there wa...\n",
              "1:1:4  Genesis  ...  And God saw that the light was good. And God s...\n",
              "1:1:5  Genesis  ...  God called the light Day, and the darkness he ...\n",
              "\n",
              "[5 rows x 6 columns]"
            ]
          },
          "metadata": {
            "tags": []
          },
          "execution_count": 65
        }
      ]
    },
    {
      "cell_type": "markdown",
      "metadata": {
        "id": "K17-QeuC_Vrg",
        "colab_type": "text"
      },
      "source": [
        "### Saving output"
      ]
    },
    {
      "cell_type": "code",
      "metadata": {
        "id": "kXsn18zw_QZE",
        "colab_type": "code",
        "colab": {}
      },
      "source": [
        "# pickle\n",
        "import pickle\n",
        "with open(VERSION_CODE+'_DF.pickle','wb') as outfile:\n",
        "    pickle.dump(bible_DF, outfile)\n",
        "\n",
        "# bible_DF.to_csv(VERSION_CODE+'.csv')"
      ],
      "execution_count": 0,
      "outputs": []
    },
    {
      "cell_type": "markdown",
      "metadata": {
        "id": "fEQCWmVNJkxc",
        "colab_type": "text"
      },
      "source": [
        "### Loading result from previous runs\n"
      ]
    },
    {
      "cell_type": "code",
      "metadata": {
        "id": "3Cx1ZPUBJwx3",
        "colab_type": "code",
        "colab": {}
      },
      "source": [
        "import pickle\n",
        "with open(VERSION_CODE+'_DF.pickle','rb') as infile:\n",
        "    bible_DF = pickle.load(infile)"
      ],
      "execution_count": 0,
      "outputs": []
    },
    {
      "cell_type": "markdown",
      "metadata": {
        "id": "P2Y4fOHIasDV",
        "colab_type": "text"
      },
      "source": [
        "## Other versions in JSON\n",
        "\n",
        "https://github.com/honza/bibles\n",
        "\n",
        "\n",
        "*   ESV\n",
        "*   MSG\n",
        "*   NIV\n",
        "*   NLT\n",
        "\n",
        "\n"
      ]
    },
    {
      "cell_type": "markdown",
      "metadata": {
        "id": "h7sw3bsCYl3k",
        "colab_type": "text"
      },
      "source": [
        "# Future research directions\n",
        "\n",
        "*   use parallel versions to explore translation patterns\n",
        "*   compare how words are used in particular situations, using parallel versions for parallel patterns. \n",
        "*     i.e. more confident in drawing relationship when similar usage appear for other languages\n",
        "*   explore manual methods occuring in FaithLife Logos platform, and identify case studies that can be automated here\n",
        "\n"
      ]
    }
  ]
}